{
 "cells": [
  {
   "cell_type": "code",
   "execution_count": 1,
   "metadata": {},
   "outputs": [],
   "source": [
    "import json\n",
    "import pandas as pd\n",
    "from pymongo import MongoClient\n",
    "import matplotlib.pyplot as plt\n",
    "import scipy as sp\n",
    "import scipy.stats as stats\n",
    "from helpers import plotOwners, plotNewOwners, remove0s\n",
    "\n",
    "client = MongoClient('localhost', 27017)\n",
    "db = client.steamspy\n",
    "\n",
    "#creating new columns to be used for data and casting things as ints\n",
    "data = pd.DataFrame(list(db.clean.find()))\n",
    "data.drop(columns = \"_id\", inplace = True) #drop _id column\n",
    "#making price column ints and making price of free games 0\n",
    "data['price'] = data['price'].fillna(0)\n",
    "data['price'] = data['price'].astype(int)\n",
    "data['negative'] = data['negative'].astype(int)\n",
    "data['positive'] = data['positive'].astype(int)\n",
    "data['Like/Dislike Ratio'] = data['positive']/data['negative']\n",
    "data = data[data['Genres'].apply(lambda x: 'Indie' in x)]\n",
    "data = data[data.price != 0]\n",
    "data['Owner Average'] = (data['llOwners'] + data['ulOwners'])/2\n",
    "data['earnings'] = data['price'] * data['Owner Average']\n",
    "data = remove0s(data)"
   ]
  },
  {
   "cell_type": "code",
   "execution_count": 2,
   "metadata": {},
   "outputs": [],
   "source": [
    "def hasGenre(series, listOfGenres):\n",
    "    for genre in listOfGenres:\n",
    "        if genre in series:\n",
    "            return True\n",
    "    return False\n",
    "\n",
    "def notGenre(series, listOfGenres):\n",
    "    for genre in listOfGenres:\n",
    "        if genre in series:\n",
    "            return False\n",
    "    return True"
   ]
  },
  {
   "cell_type": "code",
   "execution_count": 3,
   "metadata": {},
   "outputs": [],
   "source": [
    "action = data[data['Genres'].apply(lambda x: hasGenre(x, ['Action']))]\n",
    "otherAction = data[data['Genres'].apply(lambda x: notGenre(x, ['Action']))]\n",
    "mmo = data[data['Genres'].apply(lambda x: hasGenre(x, ['MMO']))]\n",
    "otherMMO = data[data['Genres'].apply(lambda x: notGenre(x, ['MMO']))]\n",
    "adventure = data[data['Genres'].apply(lambda x: hasGenre(x, ['Adventure']))]\n",
    "otherAdventure = data[data['Genres'].apply(lambda x: notGenre(x, ['Adventure']))]"
   ]
  },
  {
   "cell_type": "code",
   "execution_count": 4,
   "metadata": {},
   "outputs": [
    {
     "name": "stdout",
     "output_type": "stream",
     "text": [
      "0.003624629779023982\n"
     ]
    }
   ],
   "source": [
    "#p-value action vs other\n",
    "res = stats.mannwhitneyu(action['earnings'], otherAction['earnings'], alternative=\"greater\")\n",
    "print(res.pvalue)"
   ]
  },
  {
   "cell_type": "code",
   "execution_count": 5,
   "metadata": {},
   "outputs": [
    {
     "name": "stdout",
     "output_type": "stream",
     "text": [
      "0.015133793710619575\n"
     ]
    }
   ],
   "source": [
    "#p-value mmo vs other\n",
    "res = stats.mannwhitneyu(mmo['earnings'], otherMMO['earnings'], alternative=\"greater\")\n",
    "print(res.pvalue)"
   ]
  },
  {
   "cell_type": "code",
   "execution_count": 6,
   "metadata": {},
   "outputs": [
    {
     "name": "stdout",
     "output_type": "stream",
     "text": [
      "0.027802705962444118\n"
     ]
    }
   ],
   "source": [
    "#p-value adventure vs other\n",
    "res = stats.mannwhitneyu(adventure['earnings'], otherAdventure['earnings'], alternative=\"greater\")\n",
    "print(res.pvalue)"
   ]
  },
  {
   "cell_type": "code",
   "execution_count": 7,
   "metadata": {},
   "outputs": [
    {
     "name": "stdout",
     "output_type": "stream",
     "text": [
      "0.03767001204826956\n"
     ]
    }
   ],
   "source": [
    "#p-value mmo vs action\n",
    "res = stats.mannwhitneyu(mmo['earnings'], action['earnings'], alternative=\"greater\")\n",
    "print(res.pvalue)"
   ]
  },
  {
   "cell_type": "code",
   "execution_count": 8,
   "metadata": {},
   "outputs": [
    {
     "name": "stdout",
     "output_type": "stream",
     "text": [
      "0.39228796997527804\n"
     ]
    }
   ],
   "source": [
    "#p-value action vs adventure\n",
    "res = stats.mannwhitneyu(action['earnings'], adventure['earnings'], alternative=\"greater\")\n",
    "print(res.pvalue)"
   ]
  },
  {
   "cell_type": "code",
   "execution_count": 9,
   "metadata": {},
   "outputs": [],
   "source": [
    "def compute_power(data, other, genre, alpha = 0.05):\n",
    "    mu0 = other['earnings'].mean()\n",
    "    mua = genre['earnings'].mean()\n",
    "    sigma = data['earnings'].std()\n",
    "    n = data.shape[0]\n",
    "    standard_error = sigma / n**0.5\n",
    "    h0 = stats.norm(mu0, standard_error)\n",
    "    ha = stats.norm(mua, standard_error)\n",
    "    critical_value = h0.ppf(1 - alpha)\n",
    "    power = 1 - ha.cdf(critical_value)\n",
    "    return power"
   ]
  },
  {
   "cell_type": "code",
   "execution_count": 10,
   "metadata": {},
   "outputs": [
    {
     "data": {
      "text/plain": [
       "0.9996587744877087"
      ]
     },
     "execution_count": 10,
     "metadata": {},
     "output_type": "execute_result"
    }
   ],
   "source": [
    "compute_power(data, otherAction, action)"
   ]
  },
  {
   "cell_type": "code",
   "execution_count": 11,
   "metadata": {},
   "outputs": [
    {
     "data": {
      "text/plain": [
       "1.0"
      ]
     },
     "execution_count": 11,
     "metadata": {},
     "output_type": "execute_result"
    }
   ],
   "source": [
    "compute_power(data, otherMMO, mmo)"
   ]
  },
  {
   "cell_type": "code",
   "execution_count": 12,
   "metadata": {},
   "outputs": [
    {
     "data": {
      "text/plain": [
       "0.9944129523328231"
      ]
     },
     "execution_count": 12,
     "metadata": {},
     "output_type": "execute_result"
    }
   ],
   "source": [
    "compute_power(data, otherAdventure, adventure)"
   ]
  },
  {
   "cell_type": "code",
   "execution_count": 13,
   "metadata": {},
   "outputs": [
    {
     "data": {
      "text/plain": [
       "1.0"
      ]
     },
     "execution_count": 13,
     "metadata": {},
     "output_type": "execute_result"
    }
   ],
   "source": [
    "compute_power(data, action, mmo)"
   ]
  }
 ],
 "metadata": {
  "kernelspec": {
   "display_name": "Python 3",
   "language": "python",
   "name": "python3"
  },
  "language_info": {
   "codemirror_mode": {
    "name": "ipython",
    "version": 3
   },
   "file_extension": ".py",
   "mimetype": "text/x-python",
   "name": "python",
   "nbconvert_exporter": "python",
   "pygments_lexer": "ipython3",
   "version": "3.7.1"
  }
 },
 "nbformat": 4,
 "nbformat_minor": 2
}
