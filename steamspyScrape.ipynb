{
 "cells": [
  {
   "cell_type": "code",
   "execution_count": 8,
   "metadata": {},
   "outputs": [],
   "source": [
    "import warnings\n",
    "warnings.filterwarnings('ignore')\n",
    "from pymongo import MongoClient\n",
    "import pprint\n",
    "\n",
    "import copy\n",
    "import pandas as pd\n",
    "\n",
    "import requests\n",
    "\n",
    "from bs4 import BeautifulSoup\n",
    "import json\n",
    "import re\n",
    "import numpy as np"
   ]
  },
  {
   "cell_type": "code",
   "execution_count": 9,
   "metadata": {},
   "outputs": [],
   "source": [
    "steamspy_url = 'https://steamspy.com/api.php?request=all'\n",
    "r = requests.get(steamspy_url)"
   ]
  },
  {
   "cell_type": "code",
   "execution_count": 3,
   "metadata": {},
   "outputs": [
    {
     "name": "stdout",
     "output_type": "stream",
     "text": [
      "{}\n"
     ]
    }
   ],
   "source": [
    "print(r.json())"
   ]
  },
  {
   "cell_type": "code",
   "execution_count": 10,
   "metadata": {},
   "outputs": [],
   "source": [
    "client = MongoClient('localhost', 27017)\n",
    "db = client.steamspy\n",
    "test = db.test"
   ]
  },
  {
   "cell_type": "code",
   "execution_count": 20,
   "metadata": {},
   "outputs": [
    {
     "name": "stdout",
     "output_type": "stream",
     "text": [
      "MongoClient(host=['localhost:27017'], document_class=dict, tz_aware=False, connect=True)\n",
      "Database(MongoClient(host=['localhost:27017'], document_class=dict, tz_aware=False, connect=True), 'steamspy')\n"
     ]
    }
   ],
   "source": [
    "print(client)\n",
    "print(db)"
   ]
  },
  {
   "cell_type": "code",
   "execution_count": 11,
   "metadata": {},
   "outputs": [],
   "source": [
    "for item in r.json().values():\n",
    "    test.insert(item)"
   ]
  },
  {
   "cell_type": "code",
   "execution_count": 12,
   "metadata": {},
   "outputs": [],
   "source": [
    "data = pd.DataFrame(list(test.find()))"
   ]
  },
  {
   "cell_type": "code",
   "execution_count": 27,
   "metadata": {},
   "outputs": [
    {
     "name": "stdout",
     "output_type": "stream",
     "text": [
      "{}\n"
     ]
    }
   ],
   "source": [
    "print(r.json())"
   ]
  },
  {
   "cell_type": "code",
   "execution_count": 13,
   "metadata": {
    "scrolled": true
   },
   "outputs": [],
   "source": [
    "#replacing owners column with lower limit owners and upper limit owners column\n",
    "for idx in range(data.shape[0]):\n",
    "    owners = data.iloc[idx]['owners'].split('..')\n",
    "    for i in range(len(owners)):\n",
    "        owners[i] = owners[i].replace(',','')\n",
    "        owners[i] = owners[i].replace(' ','')\n",
    "        owners[i] = int(owners[i])\n",
    "    data.at[idx, 'llOwners'] = owners[0]\n",
    "    data.at[idx, 'ulOwners'] = owners[1]"
   ]
  },
  {
   "cell_type": "code",
   "execution_count": 14,
   "metadata": {},
   "outputs": [],
   "source": [
    "#Params: genre(string) represents the genre you want to get data of\n",
    "#        collection(database collection) represents database to store the genre data in\n",
    "#This function gets the data of a certain genre from the steamspy website and puts it in the given collection\n",
    "def storeGenre(genre, collection):\n",
    "    steamspy_url = 'https://steamspy.com/api.php?request=genre&genre={}'.format(genre)\n",
    "    r = requests.post(steamspy_url)\n",
    "    for item in r.json().values():\n",
    "        collection.insert(item)"
   ]
  },
  {
   "cell_type": "code",
   "execution_count": 15,
   "metadata": {},
   "outputs": [],
   "source": [
    "#Params: tag(string) represents the tag you want to get data of\n",
    "#        collection(database collection) represents database to store the gtag data in\n",
    "#This function gets the data of a certain tag from the steamspy website and puts it in the given collection\n",
    "def storeTag(collection, tag):\n",
    "    steamspy_url = 'https://steamspy.com/api.php?request=tag&tag={}'.format(tag)\n",
    "    r = requests.post(steamspy_url)\n",
    "    for item in r.json().values():\n",
    "        collection.insert(item)"
   ]
  },
  {
   "cell_type": "code",
   "execution_count": 16,
   "metadata": {},
   "outputs": [],
   "source": [
    "action = db.action"
   ]
  },
  {
   "cell_type": "code",
   "execution_count": 17,
   "metadata": {},
   "outputs": [],
   "source": [
    "storeGenre('Action', action)"
   ]
  },
  {
   "cell_type": "code",
   "execution_count": 18,
   "metadata": {},
   "outputs": [],
   "source": [
    "earlyaccess = db.earlyaccess\n",
    "storeGenre('Early+Access', earlyaccess)"
   ]
  },
  {
   "cell_type": "code",
   "execution_count": 19,
   "metadata": {},
   "outputs": [],
   "source": [
    "#creating databases for all the genres\n",
    "strategy = db.strategy\n",
    "rpg = db.rpg\n",
    "indieG = db.indieG\n",
    "adventure = db.adventure\n",
    "sports = db.sports\n",
    "simulation = db.simulation\n",
    "exEarlyAccess = db.exEarlyAccess\n",
    "mmo = db.mmo\n",
    "free = db.free"
   ]
  },
  {
   "cell_type": "code",
   "execution_count": 20,
   "metadata": {},
   "outputs": [],
   "source": [
    "#storing all genre data in databases\n",
    "storeGenre('Strategy', strategy)\n",
    "storeGenre('RPG', rpg)\n",
    "storeGenre('Indie', indieG)\n",
    "storeGenre('Adventure', adventure)\n",
    "storeGenre('Sports', sports)\n",
    "storeGenre('Simulation', simulation)\n",
    "storeGenre('Ex+Early+Access',exEarlyAccess)\n",
    "storeGenre('Free', free)"
   ]
  },
  {
   "cell_type": "code",
   "execution_count": 21,
   "metadata": {},
   "outputs": [],
   "source": [
    "storeGenre('Massively', mmo)"
   ]
  },
  {
   "cell_type": "code",
   "execution_count": 22,
   "metadata": {},
   "outputs": [],
   "source": [
    "data['Genres'] = np.empty((len(data), 0)).tolist()\n",
    "data['Tags'] = np.empty((len(data), 0)).tolist()"
   ]
  },
  {
   "cell_type": "code",
   "execution_count": 23,
   "metadata": {},
   "outputs": [],
   "source": [
    "#Params: df(dataframe) represents the data to append to\n",
    "#        genreDB(database) represents the genre database that you are adding\n",
    "#        genre(string) the genre you are appending\n",
    "#This function appends to the Genre column of df if the game is in the certain genre\n",
    "def appendGenre(df, genreDB, genre):\n",
    "    genreData = pd.DataFrame(list(genreDB.find()))\n",
    "    genreData = genreData.drop(columns = ['score_rank', 'owners', '_id'])\n",
    "    df['{}'.format(genre)] = data.appid.isin(genreData.appid).astype(int)\n",
    "    for idx in range(df.shape[0]):\n",
    "        if df.iloc[idx]['{}'.format(genre)] == 1:\n",
    "            df.at[idx, 'Genres'].append('{}'.format(genre))\n",
    "    df.drop(columns = '{}'.format(genre), axis=1, inplace = True)\n",
    "    \n",
    "#     df = pd.merge(df, genreData, on=['appid','average_2weeks','average_forever','developer',\n",
    "#                                    'discount', 'initialprice','median_2weeks','median_forever',\n",
    "#                                    'name', 'negative', 'positive', 'price', 'publisher',\n",
    "#                                    'userscore'], how='left', indicator='{}'.format(genre))"
   ]
  },
  {
   "cell_type": "code",
   "execution_count": 24,
   "metadata": {},
   "outputs": [],
   "source": [
    "#Params: df(dataframe) represents the data to append to\n",
    "#        tagDB(database) represents the tag database that you are adding\n",
    "#        tag(string) the tag you are appending\n",
    "#This function appends to the Tags column of df if the game includes a certain tag\n",
    "def appendTag(df, tagDB, tag):\n",
    "    tagData = pd.DataFrame(list(tagDB.find()))\n",
    "    tagData = tagData.drop(columns = ['score_rank', 'owners', '_id'])\n",
    "    df['{}'.format(tag)] = data.appid.isin(tagData.appid).astype(int)\n",
    "    for idx in range(df.shape[0]):\n",
    "        if df.iloc[idx]['{}'.format(tag)] == 1:\n",
    "            df.at[idx, 'Tags'].append('{}'.format(tag))\n",
    "    df.drop(columns = '{}'.format(tag), axis=1, inplace = True)"
   ]
  },
  {
   "cell_type": "code",
   "execution_count": 214,
   "metadata": {},
   "outputs": [
    {
     "data": {
      "text/html": [
       "<div>\n",
       "<style scoped>\n",
       "    .dataframe tbody tr th:only-of-type {\n",
       "        vertical-align: middle;\n",
       "    }\n",
       "\n",
       "    .dataframe tbody tr th {\n",
       "        vertical-align: top;\n",
       "    }\n",
       "\n",
       "    .dataframe thead th {\n",
       "        text-align: right;\n",
       "    }\n",
       "</style>\n",
       "<table border=\"1\" class=\"dataframe\">\n",
       "  <thead>\n",
       "    <tr style=\"text-align: right;\">\n",
       "      <th></th>\n",
       "    </tr>\n",
       "  </thead>\n",
       "  <tbody>\n",
       "  </tbody>\n",
       "</table>\n",
       "</div>"
      ],
      "text/plain": [
       "Empty DataFrame\n",
       "Columns: []\n",
       "Index: []"
      ]
     },
     "execution_count": 214,
     "metadata": {},
     "output_type": "execute_result"
    }
   ],
   "source": [
    "dataMMO = pd.DataFrame(list(mmo.find()))\n",
    "dataMMO.head()"
   ]
  },
  {
   "cell_type": "code",
   "execution_count": 25,
   "metadata": {
    "scrolled": true
   },
   "outputs": [],
   "source": [
    "#appending the genres\n",
    "appendGenre(data, action, 'Action')\n",
    "appendGenre(data, earlyaccess, 'Early Access')\n",
    "appendGenre(data, strategy, 'Strategy')\n",
    "appendGenre(data, rpg, 'RPG')\n",
    "appendGenre(data, indieG, 'Indie')\n",
    "appendGenre(data, adventure, 'Adventure')\n",
    "appendGenre(data, sports, 'Sports')\n",
    "appendGenre(data, simulation, 'Simulation')\n",
    "appendGenre(data, exEarlyAccess, 'Ex Early Access')"
   ]
  },
  {
   "cell_type": "code",
   "execution_count": 26,
   "metadata": {},
   "outputs": [],
   "source": [
    "appendGenre(data, mmo, 'MMO')\n",
    "appendGenre(data, free, 'Free')"
   ]
  },
  {
   "cell_type": "code",
   "execution_count": 27,
   "metadata": {},
   "outputs": [],
   "source": [
    "#screating databases for the tags\n",
    "singleplayerT = db.singleplayerT\n",
    "casualT = db.casualT\n",
    "multiplayerT = db.multiplayerT\n",
    "soundtrackT = db.soundtrackT #Great Soundtrack\n",
    "atmosphericT = db.atmosphericT\n",
    "twodT = db.twodT #2D\n",
    "puzzleT = db.puzzleT\n",
    "openWorldT = db.openWorldT\n",
    "storyRichT = db.storyRichT\n",
    "coopT = db.coopT #co-op\n",
    "difficultT = db.difficultT\n",
    "shooterT = db.shooterT\n",
    "scifiT = db.scifiT #sci-fi\n",
    "firstPersonT = db.firstPersonT #First-Person\n",
    "horrorT = db.horrorT\n",
    "vrT = db.vrT\n",
    "animeT = db.animeT\n",
    "pixelGraphicsT = db.pixelGraphicsT\n",
    "funnyT = db.funnyT\n",
    "fantasyT = db.fantasyT\n",
    "platformerT = db.platformerT\n",
    "femaleProtagonistT = db.femaleProtagonistT\n",
    "fpsT = db.fpsT\n",
    "survivalT = db.survivalT\n",
    "goreT = db.goreT\n",
    "violentT = db.violentT\n",
    "sandboxT = db.sanboxT\n",
    "comedyT = db.comedyT\n",
    "arcadeT = db.arcadeT\n",
    "classicT = db.classicT\n",
    "nudityT = db.nudityT\n",
    "onlineCoopT = db.onlineCoopT #Online Co-Op\n",
    "tacticalT = db.tacticalT\n",
    "zombiesT = db.zombiesT\n",
    "teamBasedT = db.teamBasedT #Team-Based\n",
    "pveT = db.pveT #PvE\n",
    "pvpT = db.pvpT #PvP\n",
    "warT = db.warT\n",
    "controllerT = db.controllerT"
   ]
  },
  {
   "cell_type": "code",
   "execution_count": 28,
   "metadata": {},
   "outputs": [],
   "source": [
    "storeTag(singleplayerT, 'Singleplayer')\n",
    "storeTag(casualT, 'Casual')\n",
    "storeTag(multiplayerT, 'Multiplayer')\n",
    "storeTag(soundtrackT, 'Great+Soundtrack')\n",
    "storeTag(atmosphericT, 'Atmospheric')\n",
    "storeTag(twodT, '2D')\n",
    "storeTag(puzzleT, 'Puzzle')\n",
    "storeTag(openWorldT, 'Open+World')\n",
    "storeTag(storyRichT, 'Story+Rich')\n",
    "storeTag(coopT, 'Co-op')\n",
    "storeTag(difficultT, 'Difficult')\n",
    "storeTag(shooterT, 'Shooter')\n",
    "storeTag(scifiT, 'Sci-fi')\n",
    "storeTag(firstPersonT, 'First-Person')\n",
    "storeTag(horrorT, 'Horror')\n",
    "storeTag(vrT, 'VR')\n",
    "storeTag(animeT, 'Anime')\n",
    "storeTag(pixelGraphicsT, 'Pixel+Graphics')\n",
    "storeTag(funnyT, 'Funny')\n",
    "storeTag(fantasyT, 'Fantasy')\n",
    "storeTag(platformerT, 'Platformer')\n",
    "storeTag(femaleProtagonistT, 'Female+Protagonist')\n",
    "storeTag(fpsT, 'FPS')\n",
    "storeTag(survivalT, 'Survival')\n",
    "storeTag(goreT, 'Gore')\n",
    "storeTag(violentT, 'Violent')\n",
    "storeTag(sandboxT, 'Sandbox')\n",
    "storeTag(comedyT, 'Comedy')\n",
    "storeTag(arcadeT, 'Arcade')\n",
    "storeTag(classicT, 'Classic')\n",
    "storeTag(nudityT, 'Nudity')\n",
    "storeTag(onlineCoopT, 'Online+Co-op')\n",
    "storeTag(tacticalT, 'Tactical')\n",
    "storeTag(zombiesT, 'Zombies')\n",
    "storeTag(teamBasedT, 'Team-Based')\n",
    "storeTag(pveT, 'PvE')\n",
    "storeTag(pvpT, 'PvP')\n",
    "storeTag(warT, 'War')\n",
    "storeTag(controllerT, 'Controller')"
   ]
  },
  {
   "cell_type": "code",
   "execution_count": 29,
   "metadata": {},
   "outputs": [],
   "source": [
    "appendTag(data, singleplayerT, 'Singleplayer')\n",
    "appendTag(data, casualT, 'Casual')\n",
    "appendTag(data, multiplayerT, 'Multiplayer')\n",
    "appendTag(data, soundtrackT, 'Great+Soundtrack')\n",
    "appendTag(data, atmosphericT, 'Atmospheric')\n",
    "appendTag(data, twodT, '2D')\n",
    "appendTag(data, puzzleT, 'Puzzle')\n",
    "appendTag(data, openWorldT, 'Open+World')\n",
    "appendTag(data, storyRichT, 'Story+Rich')\n",
    "appendTag(data, coopT, 'Co-op')\n",
    "appendTag(data, difficultT, 'Difficult')\n",
    "appendTag(data, shooterT, 'Shooter')\n",
    "appendTag(data, scifiT, 'Sci-fi')\n",
    "appendTag(data, firstPersonT, 'First-Person')\n",
    "appendTag(data, horrorT, 'Horror')\n",
    "appendTag(data, vrT, 'VR')\n",
    "appendTag(data, animeT, 'Anime')\n",
    "appendTag(data, pixelGraphicsT, 'Pixel+Graphics')\n",
    "appendTag(data, funnyT, 'Funny')\n",
    "appendTag(data, fantasyT, 'Fantasy')\n",
    "appendTag(data, platformerT, 'Platformer')\n",
    "appendTag(data, femaleProtagonistT, 'Female+Protagonist')\n",
    "appendTag(data, fpsT, 'FPS')\n",
    "appendTag(data, survivalT, 'Survival')\n",
    "appendTag(data, goreT, 'Gore')\n",
    "appendTag(data, violentT, 'Violent')\n",
    "appendTag(data, sandboxT, 'Sandbox')\n",
    "appendTag(data, comedyT, 'Comedy')\n",
    "appendTag(data, arcadeT, 'Arcade')\n",
    "appendTag(data, classicT, 'Classic')\n",
    "appendTag(data, nudityT, 'Nudity')\n",
    "appendTag(data, onlineCoopT, 'Online+Co-op')\n",
    "appendTag(data, tacticalT, 'Tactical')\n",
    "appendTag(data, zombiesT, 'Zombies')\n",
    "appendTag(data, teamBasedT, 'Team-Based')\n",
    "appendTag(data, pveT, 'PvE')\n",
    "appendTag(data, pvpT, 'PvP')\n",
    "appendTag(data, warT, 'War')\n",
    "appendTag(data, controllerT, 'Controller')"
   ]
  },
  {
   "cell_type": "code",
   "execution_count": 35,
   "metadata": {},
   "outputs": [],
   "source": [
    "data = data.drop(columns = ['_id', 'discount','owners'])"
   ]
  },
  {
   "cell_type": "code",
   "execution_count": null,
   "metadata": {},
   "outputs": [],
   "source": [
    "clean = db.clean"
   ]
  },
  {
   "cell_type": "code",
   "execution_count": null,
   "metadata": {},
   "outputs": [],
   "source": [
    "records = json.loads(data.T.to_json()).values() #store clean dataframe in mongo\n",
    "clean.insert(records)"
   ]
  },
  {
   "cell_type": "code",
   "execution_count": 45,
   "metadata": {},
   "outputs": [],
   "source": [
    "gamefeatures= pd.read_csv(\"gamefeatures.csv\")"
   ]
  }
 ],
 "metadata": {
  "kernelspec": {
   "display_name": "Python 3",
   "language": "python",
   "name": "python3"
  },
  "language_info": {
   "codemirror_mode": {
    "name": "ipython",
    "version": 3
   },
   "file_extension": ".py",
   "mimetype": "text/x-python",
   "name": "python",
   "nbconvert_exporter": "python",
   "pygments_lexer": "ipython3",
   "version": "3.7.1"
  }
 },
 "nbformat": 4,
 "nbformat_minor": 2
}
