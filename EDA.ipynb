{
 "cells": [
  {
   "cell_type": "code",
   "execution_count": null,
   "metadata": {},
   "outputs": [],
   "source": [
    "import json\n",
    "import pandas as pd\n",
    "from pymongo import MongoClient"
   ]
  },
  {
   "cell_type": "code",
   "execution_count": null,
   "metadata": {},
   "outputs": [],
   "source": [
    "client = MongoClient('localhost', 27017)\n",
    "db = client.steamspy"
   ]
  },
  {
   "cell_type": "code",
   "execution_count": null,
   "metadata": {},
   "outputs": [],
   "source": [
    "data = pd.DataFrame(list(db.clean.find()))"
   ]
  },
  {
   "cell_type": "code",
   "execution_count": null,
   "metadata": {
    "scrolled": true
   },
   "outputs": [],
   "source": [
    "data.drop(columns = \"_id\", inplace = True) #drop _id column"
   ]
  },
  {
   "cell_type": "code",
   "execution_count": null,
   "metadata": {},
   "outputs": [],
   "source": [
    "gamefeatures= pd.read_csv(\"gamefeatures.csv\")"
   ]
  },
  {
   "cell_type": "code",
   "execution_count": null,
   "metadata": {},
   "outputs": [],
   "source": [
    "gamefeatures = gamefeatures.rename(columns = {'QueryID':'id'})"
   ]
  },
  {
   "cell_type": "code",
   "execution_count": null,
   "metadata": {},
   "outputs": [],
   "source": [
    "gamefeatures = gamefeatures.drop(columns = ['ResponseID', 'QueryName', 'ResponseName', 'DemoCount', 'DeveloperCount', 'DLCCount',\n",
    "                            'MovieCount', 'PackageCount', 'PublisherCount', 'ScreenshotCount',\n",
    "                            'SteamSpyOwners', 'SteamSpyOwnersVariance', 'SteamSpyPlayersEstimate',\n",
    "                            'SteamSpyPlayersVariance', 'AchievementHighlightedCount', 'IsFree', 'FreeVerAvail',\n",
    "                            'PurchaseAvail', 'PCReqsHaveMin', 'PCReqsHaveRec', 'LinuxReqsHaveMin', \n",
    "                            'LinuxReqsHaveRec', 'MacReqsHaveMin', 'MacReqsHaveRec', 'CategorySinglePlayer',\n",
    "                            'CategoryMultiplayer', 'CategoryCoop', 'CategoryMMO', 'CategoryInAppPurchase',\n",
    "                            'CategoryIncludeSrcSDK', 'CategoryIncludeLevelEditor', 'CategoryVRSupport', \n",
    "                            'GenreIsNonGame', 'GenreIsIndie', 'GenreIsAction', 'GenreIsAdventure', 'GenreIsCasual',\n",
    "                            'GenreIsStrategy', 'GenreIsRPG', 'GenreIsSimulation', 'GenreIsEarlyAccess', \n",
    "                            'GenreIsFreeToPlay', 'GenreIsSports', 'GenreIsRacing', 'GenreIsMassivelyMultiplayer', \n",
    "                            'PriceCurrency', 'PriceInitial', 'PriceFinal', 'SupportEmail', 'SupportURL', \n",
    "                            'AboutText', 'Background', 'ShortDescrip', 'DetailedDescrip', 'DRMNotice', \n",
    "                            'ExtUserAcctNotice', 'HeaderImage', 'LegalNotice', 'Reviews', 'SupportedLanguages',\n",
    "                            'Website', 'PCMinReqsText', 'PCRecReqsText', 'LinuxMinReqsText', 'LinuxRecReqsText',\n",
    "                            'MacMinReqsText', 'MacRecReqsText']) #dropping useless columns"
   ]
  },
  {
   "cell_type": "code",
   "execution_count": null,
   "metadata": {},
   "outputs": [],
   "source": [
    "gamefeatures = gamefeatures.rename(columns = {'id':'appid'}) #match datas id column"
   ]
  },
  {
   "cell_type": "code",
   "execution_count": null,
   "metadata": {},
   "outputs": [],
   "source": [
    "df = pd.merge(gamefeatures, data, on=['appid'], how='left')"
   ]
  },
  {
   "cell_type": "code",
   "execution_count": null,
   "metadata": {},
   "outputs": [],
   "source": [
    "merged = db.merged"
   ]
  },
  {
   "cell_type": "code",
   "execution_count": null,
   "metadata": {
    "scrolled": true
   },
   "outputs": [],
   "source": [
    "records = json.loads(df.T.to_json()).values() #store the merged df in mongo\n",
    "merged.insert(records)"
   ]
  },
  {
   "cell_type": "code",
   "execution_count": 286,
   "metadata": {},
   "outputs": [
    {
     "data": {
      "text/html": [
       "<div>\n",
       "<style scoped>\n",
       "    .dataframe tbody tr th:only-of-type {\n",
       "        vertical-align: middle;\n",
       "    }\n",
       "\n",
       "    .dataframe tbody tr th {\n",
       "        vertical-align: top;\n",
       "    }\n",
       "\n",
       "    .dataframe thead th {\n",
       "        text-align: right;\n",
       "    }\n",
       "</style>\n",
       "<table border=\"1\" class=\"dataframe\">\n",
       "  <thead>\n",
       "    <tr style=\"text-align: right;\">\n",
       "      <th></th>\n",
       "      <th>appid</th>\n",
       "      <th>ReleaseDate</th>\n",
       "      <th>RequiredAge</th>\n",
       "      <th>Metacritic</th>\n",
       "      <th>RecommendationCount</th>\n",
       "      <th>AchievementCount</th>\n",
       "      <th>ControllerSupport</th>\n",
       "      <th>SubscriptionAvail</th>\n",
       "      <th>PlatformWindows</th>\n",
       "      <th>PlatformLinux</th>\n",
       "      <th>...</th>\n",
       "      <th>median_2weeks</th>\n",
       "      <th>median_forever</th>\n",
       "      <th>name</th>\n",
       "      <th>negative</th>\n",
       "      <th>positive</th>\n",
       "      <th>price</th>\n",
       "      <th>publisher</th>\n",
       "      <th>score_rank</th>\n",
       "      <th>ulOwners</th>\n",
       "      <th>userscore</th>\n",
       "    </tr>\n",
       "  </thead>\n",
       "  <tbody>\n",
       "    <tr>\n",
       "      <th>0</th>\n",
       "      <td>10</td>\n",
       "      <td>Nov 1 2000</td>\n",
       "      <td>0</td>\n",
       "      <td>88</td>\n",
       "      <td>68991</td>\n",
       "      <td>0</td>\n",
       "      <td>False</td>\n",
       "      <td>False</td>\n",
       "      <td>True</td>\n",
       "      <td>True</td>\n",
       "      <td>...</td>\n",
       "      <td>36.0</td>\n",
       "      <td>166.0</td>\n",
       "      <td>Counter-Strike</td>\n",
       "      <td>3754.0</td>\n",
       "      <td>144330.0</td>\n",
       "      <td>999</td>\n",
       "      <td>Valve</td>\n",
       "      <td></td>\n",
       "      <td>50000000.0</td>\n",
       "      <td>0.0</td>\n",
       "    </tr>\n",
       "    <tr>\n",
       "      <th>1</th>\n",
       "      <td>20</td>\n",
       "      <td>Apr 1 1999</td>\n",
       "      <td>0</td>\n",
       "      <td>0</td>\n",
       "      <td>2439</td>\n",
       "      <td>0</td>\n",
       "      <td>False</td>\n",
       "      <td>False</td>\n",
       "      <td>True</td>\n",
       "      <td>True</td>\n",
       "      <td>...</td>\n",
       "      <td>143.0</td>\n",
       "      <td>36.0</td>\n",
       "      <td>Team Fortress Classic</td>\n",
       "      <td>711.0</td>\n",
       "      <td>3804.0</td>\n",
       "      <td>499</td>\n",
       "      <td>Valve</td>\n",
       "      <td></td>\n",
       "      <td>5000000.0</td>\n",
       "      <td>0.0</td>\n",
       "    </tr>\n",
       "    <tr>\n",
       "      <th>2</th>\n",
       "      <td>30</td>\n",
       "      <td>May 1 2003</td>\n",
       "      <td>0</td>\n",
       "      <td>79</td>\n",
       "      <td>2319</td>\n",
       "      <td>0</td>\n",
       "      <td>False</td>\n",
       "      <td>False</td>\n",
       "      <td>True</td>\n",
       "      <td>True</td>\n",
       "      <td>...</td>\n",
       "      <td>143.0</td>\n",
       "      <td>28.0</td>\n",
       "      <td>Day of Defeat</td>\n",
       "      <td>468.0</td>\n",
       "      <td>3909.0</td>\n",
       "      <td>499</td>\n",
       "      <td>Valve</td>\n",
       "      <td></td>\n",
       "      <td>10000000.0</td>\n",
       "      <td>0.0</td>\n",
       "    </tr>\n",
       "    <tr>\n",
       "      <th>3</th>\n",
       "      <td>40</td>\n",
       "      <td>Jun 1 2001</td>\n",
       "      <td>0</td>\n",
       "      <td>0</td>\n",
       "      <td>888</td>\n",
       "      <td>0</td>\n",
       "      <td>False</td>\n",
       "      <td>False</td>\n",
       "      <td>True</td>\n",
       "      <td>True</td>\n",
       "      <td>...</td>\n",
       "      <td>143.0</td>\n",
       "      <td>15.0</td>\n",
       "      <td>Deathmatch Classic</td>\n",
       "      <td>317.0</td>\n",
       "      <td>1469.0</td>\n",
       "      <td>499</td>\n",
       "      <td>Valve</td>\n",
       "      <td></td>\n",
       "      <td>10000000.0</td>\n",
       "      <td>0.0</td>\n",
       "    </tr>\n",
       "    <tr>\n",
       "      <th>4</th>\n",
       "      <td>50</td>\n",
       "      <td>Nov 1 1999</td>\n",
       "      <td>0</td>\n",
       "      <td>0</td>\n",
       "      <td>2934</td>\n",
       "      <td>0</td>\n",
       "      <td>False</td>\n",
       "      <td>False</td>\n",
       "      <td>True</td>\n",
       "      <td>True</td>\n",
       "      <td>...</td>\n",
       "      <td>143.0</td>\n",
       "      <td>121.0</td>\n",
       "      <td>Half-Life: Opposing Force</td>\n",
       "      <td>359.0</td>\n",
       "      <td>6529.0</td>\n",
       "      <td>499</td>\n",
       "      <td>Valve</td>\n",
       "      <td></td>\n",
       "      <td>10000000.0</td>\n",
       "      <td>0.0</td>\n",
       "    </tr>\n",
       "  </tbody>\n",
       "</table>\n",
       "<p>5 rows × 28 columns</p>\n",
       "</div>"
      ],
      "text/plain": [
       "   appid ReleaseDate  RequiredAge  Metacritic  RecommendationCount  \\\n",
       "0     10  Nov 1 2000            0          88                68991   \n",
       "1     20  Apr 1 1999            0           0                 2439   \n",
       "2     30  May 1 2003            0          79                 2319   \n",
       "3     40  Jun 1 2001            0           0                  888   \n",
       "4     50  Nov 1 1999            0           0                 2934   \n",
       "\n",
       "   AchievementCount  ControllerSupport  SubscriptionAvail  PlatformWindows  \\\n",
       "0                 0              False              False             True   \n",
       "1                 0              False              False             True   \n",
       "2                 0              False              False             True   \n",
       "3                 0              False              False             True   \n",
       "4                 0              False              False             True   \n",
       "\n",
       "   PlatformLinux    ...      median_2weeks median_forever  \\\n",
       "0           True    ...               36.0          166.0   \n",
       "1           True    ...              143.0           36.0   \n",
       "2           True    ...              143.0           28.0   \n",
       "3           True    ...              143.0           15.0   \n",
       "4           True    ...              143.0          121.0   \n",
       "\n",
       "                        name  negative  positive price publisher  score_rank  \\\n",
       "0             Counter-Strike    3754.0  144330.0   999     Valve               \n",
       "1      Team Fortress Classic     711.0    3804.0   499     Valve               \n",
       "2              Day of Defeat     468.0    3909.0   499     Valve               \n",
       "3         Deathmatch Classic     317.0    1469.0   499     Valve               \n",
       "4  Half-Life: Opposing Force     359.0    6529.0   499     Valve               \n",
       "\n",
       "     ulOwners  userscore  \n",
       "0  50000000.0        0.0  \n",
       "1   5000000.0        0.0  \n",
       "2  10000000.0        0.0  \n",
       "3  10000000.0        0.0  \n",
       "4  10000000.0        0.0  \n",
       "\n",
       "[5 rows x 28 columns]"
      ]
     },
     "execution_count": 286,
     "metadata": {},
     "output_type": "execute_result"
    }
   ],
   "source": [
    "df.head()"
   ]
  },
  {
   "cell_type": "code",
   "execution_count": null,
   "metadata": {},
   "outputs": [],
   "source": [
    "free = data[data['Genres'].apply(lambda x: 'Free' in x)] \n",
    "paid = data[data['Genres'].apply(lambda x: 'Free' not in x)] "
   ]
  },
  {
   "cell_type": "code",
   "execution_count": null,
   "metadata": {},
   "outputs": [],
   "source": [
    "freeOwnersL = free['llOwners'].sum()\n",
    "paidOwnersL = paid['llOwners'].sum()\n",
    "freeOwnersU = free['ulOwners'].sum()\n",
    "paidOwnersU = paid['ulOwners'].sum()"
   ]
  },
  {
   "cell_type": "code",
   "execution_count": null,
   "metadata": {},
   "outputs": [],
   "source": [
    "dfFree = pd.DataFrame({'Type':['Free', 'Paid'], 'Lower Limit Owners':[freeOwnersL, paidOwnersL], 'Upper Limit Owners':\n",
    "                      [freeOwnersU, paidOwnersU]})"
   ]
  },
  {
   "cell_type": "code",
   "execution_count": null,
   "metadata": {},
   "outputs": [],
   "source": [
    "import matplotlib.pyplot as plt"
   ]
  },
  {
   "cell_type": "code",
   "execution_count": null,
   "metadata": {},
   "outputs": [],
   "source": [
    "ax = dfFree.plot.bar(x = 'Type',rot=0) # number of free and paid games owned by people"
   ]
  },
  {
   "cell_type": "code",
   "execution_count": null,
   "metadata": {},
   "outputs": [],
   "source": [
    "#takes in a list of dataframes and outputs the values of the amount of owners and counts\n",
    "def getOwnersCount(listOfDfs):\n",
    "    lowerOwners = []\n",
    "    upperOwners = []\n",
    "    count = []\n",
    "    for i in listOfDfs:\n",
    "        lowerOwners.append(i['llOwners'].sum())\n",
    "        upperOwners.append(i['ulOwners'].sum())\n",
    "        count.append(i.shape[0])\n",
    "    return lowerOwners, upperOwners, count"
   ]
  },
  {
   "cell_type": "code",
   "execution_count": null,
   "metadata": {},
   "outputs": [],
   "source": [
    "#takes in a list of dataframes and names for the dataframes and outputs a new dataframe with owners and count \n",
    "def createOwnersDF(listOfDfs, names):\n",
    "    lO, uO, count = getOwnersCount(listOfDfs)\n",
    "    df = pd.DataFrame({'Type':names,'Lower Limit Owners':lO, 'Upper Limit Owners': uO, 'Count':count})\n",
    "    df['llAvg'] = df['Lower Limit Owners']/df['Count']\n",
    "    df['ulAvg'] = df['Upper Limit Owners']/df['Count']\n",
    "    return df"
   ]
  },
  {
   "cell_type": "code",
   "execution_count": 265,
   "metadata": {},
   "outputs": [],
   "source": [
    "def plotOwners(listOfDfs, names, rotation=0):\n",
    "    df = createOwnersDF(listOfDfs, names)\n",
    "    ax = df.plot.bar(x = 'Type',y = ['Lower Limit Owners', 'Upper Limit Owners'],rot=rotation, \n",
    "                     figsize = (20,10), title=\"Number of Owners\") \n",
    "    ax = df.plot.bar(x = 'Type',y = 'Count',rot=rotation, figsize = (20,10), title = \"Number of Games\")\n",
    "    ax = df.plot.bar(x = 'Type',y = ['llAvg','ulAvg'],rot=rotation, figsize=(20,10), title = \"Average owners per game\")"
   ]
  },
  {
   "cell_type": "code",
   "execution_count": 274,
   "metadata": {},
   "outputs": [],
   "source": [
    "#takes in a list of dataframes and outputs the values of avg and median new users and counts\n",
    "def getAvgMedCount(listOfDfs):\n",
    "    avg = []\n",
    "    median = []\n",
    "    count = []\n",
    "    for i in listOfDfs:\n",
    "        avg.append(i['average_forever'].sum())\n",
    "        median.append(i['median_forever'].sum())\n",
    "        count.append(i.shape[0])\n",
    "    return avg, median, count"
   ]
  },
  {
   "cell_type": "code",
   "execution_count": 278,
   "metadata": {},
   "outputs": [],
   "source": [
    "#takes in a list of dataframes and names for the dataframes and outputs a new dataframe with new users and count \n",
    "def createAvgMedDF(listOfDfs, names):\n",
    "    avg, med, count = getAvgMedCount(listOfDfs)\n",
    "    df = pd.DataFrame({'Type':names,'Avg New Users':avg, 'Median New Users': med, 'Count':count})\n",
    "    df['avgAvg'] = df['Avg New Users']/df['Count']\n",
    "    df['medAvg'] = df['Median New Users']/df['Count']\n",
    "    return df"
   ]
  },
  {
   "cell_type": "code",
   "execution_count": 228,
   "metadata": {},
   "outputs": [],
   "source": [
    "#plotting the dataframe\n",
    "def plotNewOwners(listOfDfs, names, rotation=0):\n",
    "    df = createAvgMedDF(listOfDfs, names)\n",
    "    ax = df.plot.bar(x = 'Type',y = ['Avg New Users', 'Median New Users'],rot=rotation, \n",
    "                     figsize = (20,10), title=\"Number of New Owners\") \n",
    "    ax = df.plot.bar(x = 'Type',y = ['avgAvg','medAvg'],rot=rotation, figsize=(20,10), \n",
    "                     title = \"Average new owners per game\")"
   ]
  },
  {
   "cell_type": "code",
   "execution_count": 266,
   "metadata": {},
   "outputs": [],
   "source": [
    "action = data[data['Genres'].apply(lambda x: 'Action' in x)]\n",
    "earlyAccess = data[data['Genres'].apply(lambda x: 'Early Access' in x)]\n",
    "strategy = data[data['Genres'].apply(lambda x: 'Strategy' in x)]\n",
    "rpg = data[data['Genres'].apply(lambda x: 'RPG' in x)]\n",
    "indie = data[data['Genres'].apply(lambda x: 'Indie' in x)]\n",
    "adventure = data[data['Genres'].apply(lambda x: 'Adventure' in x)]\n",
    "sports = data[data['Genres'].apply(lambda x: 'Sports' in x)]\n",
    "simulation = data[data['Genres'].apply(lambda x: 'Simulation' in x)]\n",
    "exEarlyAccess = data[data['Genres'].apply(lambda x: 'Ex Early Access' in x)]\n",
    "mmo = data[data['Genres'].apply(lambda x: 'MMO' in x)]\n",
    "theGenres = [action, earlyAccess, strategy, rpg, indie, adventure, sports, simulation, exEarlyAccess, mmo]\n",
    "genreNames = ['Action', 'Early Access', 'Strategy', 'RPG', 'Indie', 'Adventure', 'Sports',\n",
    "              'Simulation', 'Ex Early Access', 'MMO']"
   ]
  },
  {
   "cell_type": "code",
   "execution_count": null,
   "metadata": {},
   "outputs": [],
   "source": [
    "#making price column ints and making price of free games 0\n",
    "data['price'] = data['price'].fillna(0)\n",
    "data['price'] = data['price'].astype(int)"
   ]
  },
  {
   "cell_type": "code",
   "execution_count": null,
   "metadata": {},
   "outputs": [],
   "source": [
    "data['negative'] = data['negative'].astype(int)\n",
    "data['positive'] = data['positive'].astype(int)"
   ]
  },
  {
   "cell_type": "code",
   "execution_count": null,
   "metadata": {},
   "outputs": [],
   "source": [
    "data['Like/Dislike Ratio'] = data['positive']/data['negative']"
   ]
  },
  {
   "cell_type": "code",
   "execution_count": null,
   "metadata": {},
   "outputs": [],
   "source": [
    "free = data[data.price == 0]\n",
    "paid10 = data[(data.price < 1001) & (data.price > 0)] #games between 0.01-10 dollars\n",
    "paid20 = data[(data.price > 1000) & (data.price < 2001)]\n",
    "paid30 = data[(data.price > 2000) & (data.price < 3001)]\n",
    "paid40 = data[(data.price > 3000) & (data.price < 4001)]\n",
    "paid50 = data[(data.price > 4000) & (data.price < 5001)]\n",
    "paid60 = data[(data.price > 5000) & (data.price < 6001)]\n",
    "paidOver60 = data[data.price > 6000]"
   ]
  },
  {
   "cell_type": "code",
   "execution_count": null,
   "metadata": {},
   "outputs": [],
   "source": [
    "priceOfGame = [free, paid10, paid20, paid30, paid40, paid50, paid60, paidOver60]\n",
    "priceNames = ['Free', 'Paid 10', 'Paid 20', 'Paid 30', 'Paid 40', 'Paid 50', 'Paid 60', 'Paid Over 60']"
   ]
  },
  {
   "cell_type": "code",
   "execution_count": null,
   "metadata": {},
   "outputs": [],
   "source": [
    "dfPaid = createOwnersDF(priceOfGame, priceNames)"
   ]
  },
  {
   "cell_type": "code",
   "execution_count": null,
   "metadata": {
    "scrolled": true
   },
   "outputs": [],
   "source": [
    "#owners by price point without truncation\n",
    "plotOwners(dfPaid)"
   ]
  },
  {
   "cell_type": "code",
   "execution_count": null,
   "metadata": {},
   "outputs": [],
   "source": [
    "ordereddata = data.sort_values(by=['llOwners','ulOwners'], ascending=False)\n",
    "truncatedData = ordereddata.iloc[20:]"
   ]
  },
  {
   "cell_type": "code",
   "execution_count": null,
   "metadata": {},
   "outputs": [],
   "source": [
    "free = truncatedData[truncatedData.price == 0]\n",
    "paid10 = truncatedData[(truncatedData.price < 1001) & (truncatedData.price > 0)] #games between 0.01-10 dollars\n",
    "paid20 = truncatedData[(truncatedData.price > 1000) & (truncatedData.price < 2001)]\n",
    "paid30 = truncatedData[(truncatedData.price > 2000) & (truncatedData.price < 3001)]\n",
    "paid40 = truncatedData[(truncatedData.price > 3000) & (truncatedData.price < 4001)]\n",
    "paid50 = truncatedData[(truncatedData.price > 4000) & (truncatedData.price < 5001)]\n",
    "paid60 = truncatedData[(truncatedData.price > 5000) & (truncatedData.price < 6001)]\n",
    "paidOver60 = truncatedData[truncatedData.price > 6000]"
   ]
  },
  {
   "cell_type": "code",
   "execution_count": null,
   "metadata": {
    "scrolled": true
   },
   "outputs": [],
   "source": [
    "#owners of price points without top 20\n",
    "priceOfGame = [free, paid10, paid20, paid30, paid40, paid50, paid60, paidOver60]\n",
    "priceNames = ['Free', 'Paid 10', 'Paid 20', 'Paid 30', 'Paid 40', 'Paid 50', 'Paid 60', 'Paid Over 60']\n",
    "dfPaid = createOwnersDF(priceOfGame, priceNames)\n",
    "plotOwners(dfPaid)"
   ]
  }
 ],
 "metadata": {
  "kernelspec": {
   "display_name": "Python 3",
   "language": "python",
   "name": "python3"
  },
  "language_info": {
   "codemirror_mode": {
    "name": "ipython",
    "version": 3
   },
   "file_extension": ".py",
   "mimetype": "text/x-python",
   "name": "python",
   "nbconvert_exporter": "python",
   "pygments_lexer": "ipython3",
   "version": "3.7.1"
  }
 },
 "nbformat": 4,
 "nbformat_minor": 2
}
