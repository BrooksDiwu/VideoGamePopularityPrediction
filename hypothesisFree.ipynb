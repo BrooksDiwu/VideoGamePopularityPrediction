{
 "cells": [
  {
   "cell_type": "code",
   "execution_count": 1,
   "metadata": {},
   "outputs": [],
   "source": [
    "import json\n",
    "import pandas as pd\n",
    "from pymongo import MongoClient\n",
    "import matplotlib.pyplot as plt\n",
    "import scipy as sp\n",
    "import scipy.stats as stats\n",
    "from helpers import plotOwners, plotNewOwners, remove0s\n",
    "\n",
    "client = MongoClient('localhost', 27017)\n",
    "db = client.steamspy\n",
    "\n",
    "#creating new columns to be used for data and casting things as ints\n",
    "data = pd.DataFrame(list(db.clean.find()))\n",
    "data.drop(columns = \"_id\", inplace = True) #drop _id column\n",
    "#making price column ints and making price of free games 0\n",
    "data['price'] = data['price'].fillna(0)\n",
    "data['price'] = data['price'].astype(int)\n",
    "data['negative'] = data['negative'].astype(int)\n",
    "data['positive'] = data['positive'].astype(int)\n",
    "data['Like/Dislike Ratio'] = data['positive']/data['negative']\n",
    "data = data[data['Genres'].apply(lambda x: 'Indie' not in x)]\n",
    "data = data[data.price == 0]\n",
    "data['Owner Average'] = (data['llOwners'] + data['ulOwners'])/2\n",
    "data = remove0s(data)"
   ]
  },
  {
   "cell_type": "code",
   "execution_count": 2,
   "metadata": {},
   "outputs": [],
   "source": [
    "def hasGenre(series, listOfGenres):\n",
    "    for genre in listOfGenres:\n",
    "        if genre in series:\n",
    "            return True\n",
    "    return False\n",
    "\n",
    "def notGenre(series, listOfGenres):\n",
    "    for genre in listOfGenres:\n",
    "        if genre in series:\n",
    "            return False\n",
    "    return True"
   ]
  },
  {
   "cell_type": "code",
   "execution_count": 3,
   "metadata": {},
   "outputs": [],
   "source": [
    "action = data[data['Genres'].apply(lambda x: hasGenre(x, ['Action']))]\n",
    "otherAction = data[data['Genres'].apply(lambda x: notGenre(x, ['Action']))]"
   ]
  },
  {
   "cell_type": "code",
   "execution_count": 4,
   "metadata": {},
   "outputs": [],
   "source": [
    "mmoName = ['MMO']\n",
    "mmo = data[data['Genres'].apply(lambda x: hasGenre(x, mmoName))]\n",
    "otherMMO = data[data['Genres'].apply(lambda x: notGenre(x, mmoName))]"
   ]
  },
  {
   "cell_type": "code",
   "execution_count": 5,
   "metadata": {},
   "outputs": [
    {
     "name": "stdout",
     "output_type": "stream",
     "text": [
      "1.2821975135530936e-18\n"
     ]
    }
   ],
   "source": [
    "#p-value action vs other\n",
    "res = stats.mannwhitneyu(action['Owner Average'], otherAction['Owner Average'], alternative=\"greater\")\n",
    "print(res.pvalue)"
   ]
  },
  {
   "cell_type": "code",
   "execution_count": 6,
   "metadata": {},
   "outputs": [
    {
     "name": "stdout",
     "output_type": "stream",
     "text": [
      "6.35123936011751e-11\n"
     ]
    }
   ],
   "source": [
    "#p-value mmo vs other\n",
    "res = stats.mannwhitneyu(mmo['Owner Average'], otherMMO['Owner Average'], alternative=\"greater\")\n",
    "print(res.pvalue)"
   ]
  },
  {
   "cell_type": "code",
   "execution_count": 7,
   "metadata": {},
   "outputs": [
    {
     "name": "stdout",
     "output_type": "stream",
     "text": [
      "0.09930591212950068\n"
     ]
    }
   ],
   "source": [
    "#p-value sports vs other\n",
    "sports = data[data['Genres'].apply(lambda x: hasGenre(x, ['Sports']))]\n",
    "otherSports = data[data['Genres'].apply(lambda x: notGenre(x, ['Sports']))]\n",
    "res = stats.mannwhitneyu(sports['Owner Average'], otherSports['Owner Average'], alternative=\"greater\")\n",
    "print(res.pvalue)"
   ]
  },
  {
   "cell_type": "code",
   "execution_count": 8,
   "metadata": {},
   "outputs": [
    {
     "name": "stdout",
     "output_type": "stream",
     "text": [
      "0.3704278172472488\n"
     ]
    }
   ],
   "source": [
    "#p-value strategy vs other\n",
    "strategy = data[data['Genres'].apply(lambda x: hasGenre(x, ['Strategy']))]\n",
    "otherStrategy = data[data['Genres'].apply(lambda x: notGenre(x, ['Strategy']))]\n",
    "res = stats.mannwhitneyu(strategy['Owner Average'], otherStrategy['Owner Average'], alternative=\"greater\")\n",
    "print(res.pvalue)"
   ]
  },
  {
   "cell_type": "code",
   "execution_count": 9,
   "metadata": {},
   "outputs": [
    {
     "name": "stdout",
     "output_type": "stream",
     "text": [
      "0.6413357791557802\n"
     ]
    }
   ],
   "source": [
    "adventure = data[data['Genres'].apply(lambda x: hasGenre(x, ['Adventure']))]\n",
    "otherAdventure = data[data['Genres'].apply(lambda x: notGenre(x, ['Adventure']))]\n",
    "res = stats.mannwhitneyu(adventure['Owner Average'], otherAdventure['Owner Average'], alternative=\"greater\")\n",
    "print(res.pvalue)"
   ]
  },
  {
   "cell_type": "code",
   "execution_count": 10,
   "metadata": {},
   "outputs": [
    {
     "name": "stdout",
     "output_type": "stream",
     "text": [
      "8.385353636409184e-05\n"
     ]
    }
   ],
   "source": [
    "#p-value rpg vs other\n",
    "rpg = data[data['Genres'].apply(lambda x: hasGenre(x, ['RPG']))]\n",
    "otherRPG = data[data['Genres'].apply(lambda x: notGenre(x, ['RPG']))]\n",
    "res = stats.mannwhitneyu(rpg['Owner Average'], otherRPG['Owner Average'], alternative=\"greater\")\n",
    "print(res.pvalue)"
   ]
  },
  {
   "cell_type": "code",
   "execution_count": 11,
   "metadata": {},
   "outputs": [
    {
     "name": "stdout",
     "output_type": "stream",
     "text": [
      "0.1654827375241395\n"
     ]
    }
   ],
   "source": [
    "#p-value action vs mmo\n",
    "res = stats.mannwhitneyu(action['Owner Average'], mmo['Owner Average'], alternative=\"greater\")\n",
    "print(res.pvalue)"
   ]
  },
  {
   "cell_type": "code",
   "execution_count": 12,
   "metadata": {},
   "outputs": [
    {
     "name": "stdout",
     "output_type": "stream",
     "text": [
      "0.017130908050227624\n"
     ]
    }
   ],
   "source": [
    "#p-value action vs rpg\n",
    "res = stats.mannwhitneyu(action['Owner Average'], rpg['Owner Average'], alternative=\"greater\")\n",
    "print(res.pvalue)"
   ]
  },
  {
   "cell_type": "code",
   "execution_count": 13,
   "metadata": {},
   "outputs": [
    {
     "name": "stdout",
     "output_type": "stream",
     "text": [
      "0.11288348519722408\n"
     ]
    }
   ],
   "source": [
    "#p-value mmo vs rpg\n",
    "res = stats.mannwhitneyu(mmo['Owner Average'], rpg['Owner Average'], alternative=\"greater\")\n",
    "print(res.pvalue)"
   ]
  },
  {
   "cell_type": "code",
   "execution_count": 20,
   "metadata": {},
   "outputs": [],
   "source": [
    "def compute_power(data, other, genre, alpha = 0.05):\n",
    "    mu0 = other['Owner Average'].mean()\n",
    "    mua = genre['Owner Average'].mean()\n",
    "    sigma = data['Owner Average'].std()\n",
    "    n = data.shape[0]\n",
    "    standard_error = sigma / n**0.5\n",
    "    h0 = stats.norm(mu0, standard_error)\n",
    "    ha = stats.norm(mua, standard_error)\n",
    "    critical_value = h0.ppf(1 - alpha)\n",
    "    power = 1 - ha.cdf(critical_value)\n",
    "    return power"
   ]
  },
  {
   "cell_type": "code",
   "execution_count": 21,
   "metadata": {},
   "outputs": [
    {
     "data": {
      "text/plain": [
       "0.99999999999506"
      ]
     },
     "execution_count": 21,
     "metadata": {},
     "output_type": "execute_result"
    }
   ],
   "source": [
    "compute_power(data, otherAction, action)"
   ]
  },
  {
   "cell_type": "code",
   "execution_count": 23,
   "metadata": {},
   "outputs": [
    {
     "data": {
      "text/plain": [
       "0.10750004553449122"
      ]
     },
     "execution_count": 23,
     "metadata": {},
     "output_type": "execute_result"
    }
   ],
   "source": [
    "compute_power(data, otherMMO, mmo)"
   ]
  },
  {
   "cell_type": "code",
   "execution_count": 25,
   "metadata": {},
   "outputs": [
    {
     "data": {
      "text/plain": [
       "3.7808927856541885e-05"
      ]
     },
     "execution_count": 25,
     "metadata": {},
     "output_type": "execute_result"
    }
   ],
   "source": [
    "compute_power(data, otherRPG, rpg)"
   ]
  },
  {
   "cell_type": "code",
   "execution_count": 28,
   "metadata": {},
   "outputs": [
    {
     "data": {
      "text/plain": [
       "0.9766864283887338"
      ]
     },
     "execution_count": 28,
     "metadata": {},
     "output_type": "execute_result"
    }
   ],
   "source": [
    "rpgAction = data[data['Genres'].apply(lambda x: hasGenre(x, ['Action', 'RPG']))]\n",
    "compute_power(rpgAction, rpg, action)"
   ]
  }
 ],
 "metadata": {
  "kernelspec": {
   "display_name": "Python 3",
   "language": "python",
   "name": "python3"
  },
  "language_info": {
   "codemirror_mode": {
    "name": "ipython",
    "version": 3
   },
   "file_extension": ".py",
   "mimetype": "text/x-python",
   "name": "python",
   "nbconvert_exporter": "python",
   "pygments_lexer": "ipython3",
   "version": "3.7.1"
  }
 },
 "nbformat": 4,
 "nbformat_minor": 2
}
