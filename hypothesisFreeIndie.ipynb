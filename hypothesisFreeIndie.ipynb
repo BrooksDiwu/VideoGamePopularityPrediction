{
 "cells": [
  {
   "cell_type": "code",
   "execution_count": 1,
   "metadata": {},
   "outputs": [],
   "source": [
    "import json\n",
    "import pandas as pd\n",
    "from pymongo import MongoClient\n",
    "import matplotlib.pyplot as plt\n",
    "from helpers import plotOwners, plotNewOwners, remove0s"
   ]
  },
  {
   "cell_type": "code",
   "execution_count": 2,
   "metadata": {},
   "outputs": [],
   "source": [
    "client = MongoClient('localhost', 27017)\n",
    "db = client.steamspy"
   ]
  },
  {
   "cell_type": "code",
   "execution_count": 3,
   "metadata": {},
   "outputs": [],
   "source": [
    "#creating new columns to be used for data and casting things as ints\n",
    "data = pd.DataFrame(list(db.clean.find()))\n",
    "data.drop(columns = \"_id\", inplace = True) #drop _id column\n",
    "#making price column ints and making price of free games 0\n",
    "data['price'] = data['price'].fillna(0)\n",
    "data['price'] = data['price'].astype(int)\n",
    "data['negative'] = data['negative'].astype(int)\n",
    "data['positive'] = data['positive'].astype(int)\n",
    "data['Like/Dislike Ratio'] = data['positive']/data['negative']\n",
    "data = data[data['Genres'].apply(lambda x: 'Indie' in x)]\n",
    "data = data[data.price == 0]\n",
    "data['Owner Average'] = (data['llOwners'] + data['ulOwners'])/2\n",
    "data = remove0s(data)"
   ]
  },
  {
   "cell_type": "code",
   "execution_count": 4,
   "metadata": {},
   "outputs": [],
   "source": [
    "def hasGenre(series, listOfGenres):\n",
    "    for genre in listOfGenres:\n",
    "        if genre in series:\n",
    "            return True\n",
    "    return False"
   ]
  },
  {
   "cell_type": "code",
   "execution_count": 5,
   "metadata": {},
   "outputs": [],
   "source": [
    "def notGenre(series, listOfGenres):\n",
    "    for genre in listOfGenres:\n",
    "        if genre in series:\n",
    "            return False\n",
    "    return True"
   ]
  },
  {
   "cell_type": "code",
   "execution_count": 6,
   "metadata": {},
   "outputs": [],
   "source": [
    "genreNames = ['Action', 'Adventure']"
   ]
  },
  {
   "cell_type": "code",
   "execution_count": 7,
   "metadata": {},
   "outputs": [],
   "source": [
    "actionAdventure = data[data['Genres'].apply(lambda x: hasGenre(x, genreNames))]"
   ]
  },
  {
   "cell_type": "code",
   "execution_count": 8,
   "metadata": {},
   "outputs": [],
   "source": [
    "other = data[data['Genres'].apply(lambda x: notGenre(x, genreNames))]"
   ]
  },
  {
   "cell_type": "code",
   "execution_count": 9,
   "metadata": {},
   "outputs": [],
   "source": [
    "import scipy as sp\n",
    "import scipy.stats as stats"
   ]
  },
  {
   "cell_type": "code",
   "execution_count": 10,
   "metadata": {},
   "outputs": [],
   "source": [
    "actionName = ['Action']\n",
    "rpgName = ['RPG']\n",
    "action = data[data['Genres'].apply(lambda x: hasGenre(x, actionName))]\n",
    "rpg = data[data['Genres'].apply(lambda x: hasGenre(x, rpgName))]"
   ]
  },
  {
   "cell_type": "code",
   "execution_count": 11,
   "metadata": {},
   "outputs": [],
   "source": [
    "otherAction = data[data['Genres'].apply(lambda x: notGenre(x, actionName))]\n",
    "otherRPG = data[data['Genres'].apply(lambda x: notGenre(x, rpgName))]\n",
    "mmo = data[data['Genres'].apply(lambda x: hasGenre(x, ['MMO']))]\n",
    "otherMMO = data[data['Genres'].apply(lambda x: notGenre(x, ['MMO']))]\n",
    "strategy = data[data['Genres'].apply(lambda x: hasGenre(x, ['Strategy']))]\n",
    "otherStrategy= data[data['Genres'].apply(lambda x: notGenre(x, ['Strategy']))]"
   ]
  },
  {
   "cell_type": "code",
   "execution_count": 12,
   "metadata": {
    "scrolled": true
   },
   "outputs": [
    {
     "name": "stdout",
     "output_type": "stream",
     "text": [
      "0.0029052114451273664\n"
     ]
    }
   ],
   "source": [
    "#action vs other p-value with 0s removed\n",
    "res = stats.mannwhitneyu(action['Owner Average'], otherAction['Owner Average'], alternative=\"greater\")\n",
    "print(res.pvalue)"
   ]
  },
  {
   "cell_type": "code",
   "execution_count": 13,
   "metadata": {},
   "outputs": [
    {
     "name": "stdout",
     "output_type": "stream",
     "text": [
      "1.0107732291236831e-07\n"
     ]
    }
   ],
   "source": [
    "#MMO vs other p-value with 0s removed\n",
    "res = stats.mannwhitneyu(mmo['Owner Average'], otherMMO['Owner Average'], alternative=\"greater\")\n",
    "print(res.pvalue)"
   ]
  },
  {
   "cell_type": "code",
   "execution_count": 14,
   "metadata": {},
   "outputs": [
    {
     "name": "stdout",
     "output_type": "stream",
     "text": [
      "0.03296116434410332\n"
     ]
    }
   ],
   "source": [
    "res = stats.mannwhitneyu(rpg['Owner Average'], otherRPG['Owner Average'], alternative=\"greater\")\n",
    "print(res.pvalue)"
   ]
  },
  {
   "cell_type": "code",
   "execution_count": 15,
   "metadata": {},
   "outputs": [
    {
     "name": "stdout",
     "output_type": "stream",
     "text": [
      "0.11267032234532004\n"
     ]
    }
   ],
   "source": [
    "res = stats.mannwhitneyu(strategy['Owner Average'], otherStrategy['Owner Average'], alternative=\"greater\")\n",
    "print(res.pvalue)"
   ]
  },
  {
   "cell_type": "code",
   "execution_count": 16,
   "metadata": {},
   "outputs": [],
   "source": [
    "def compute_power(data, other, genre, alpha = 0.05):\n",
    "    mu0 = other['Owner Average'].mean()\n",
    "    mua = genre['Owner Average'].mean()\n",
    "    sigma = data['Owner Average'].std()\n",
    "    n = data.shape[0]\n",
    "    standard_error = sigma / n**0.5\n",
    "    h0 = stats.norm(mu0, standard_error)\n",
    "    ha = stats.norm(mua, standard_error)\n",
    "    critical_value = h0.ppf(1 - alpha)\n",
    "    power = 1 - ha.cdf(critical_value)\n",
    "    return power"
   ]
  },
  {
   "cell_type": "code",
   "execution_count": 17,
   "metadata": {
    "scrolled": true
   },
   "outputs": [
    {
     "data": {
      "text/plain": [
       "0.9999999533757833"
      ]
     },
     "execution_count": 17,
     "metadata": {},
     "output_type": "execute_result"
    }
   ],
   "source": [
    "compute_power(data, otherAction, action)"
   ]
  },
  {
   "cell_type": "code",
   "execution_count": 18,
   "metadata": {},
   "outputs": [
    {
     "data": {
      "text/plain": [
       "0.439134104845189"
      ]
     },
     "execution_count": 18,
     "metadata": {},
     "output_type": "execute_result"
    }
   ],
   "source": [
    "compute_power(data, otherRPG, rpg)"
   ]
  },
  {
   "cell_type": "code",
   "execution_count": 19,
   "metadata": {},
   "outputs": [
    {
     "data": {
      "text/plain": [
       "0.9994968474730219"
      ]
     },
     "execution_count": 19,
     "metadata": {},
     "output_type": "execute_result"
    }
   ],
   "source": [
    "compute_power(data, otherMMO, mmo)"
   ]
  },
  {
   "cell_type": "code",
   "execution_count": 20,
   "metadata": {},
   "outputs": [
    {
     "data": {
      "text/plain": [
       "1.2630559661053198e-05"
      ]
     },
     "execution_count": 20,
     "metadata": {},
     "output_type": "execute_result"
    }
   ],
   "source": [
    "compute_power(data, otherStrategy, strategy)"
   ]
  }
 ],
 "metadata": {
  "kernelspec": {
   "display_name": "Python 3",
   "language": "python",
   "name": "python3"
  },
  "language_info": {
   "codemirror_mode": {
    "name": "ipython",
    "version": 3
   },
   "file_extension": ".py",
   "mimetype": "text/x-python",
   "name": "python",
   "nbconvert_exporter": "python",
   "pygments_lexer": "ipython3",
   "version": "3.7.1"
  }
 },
 "nbformat": 4,
 "nbformat_minor": 2
}
