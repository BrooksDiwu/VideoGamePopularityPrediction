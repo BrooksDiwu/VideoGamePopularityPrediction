{
 "cells": [
  {
   "cell_type": "code",
   "execution_count": 77,
   "metadata": {},
   "outputs": [],
   "source": [
    "import warnings\n",
    "warnings.filterwarnings('ignore')\n",
    "from pymongo import MongoClient\n",
    "import pprint\n",
    "\n",
    "import copy\n",
    "import pandas as pd\n",
    "\n",
    "import requests\n",
    "\n",
    "from bs4 import BeautifulSoup\n",
    "import json\n",
    "import re\n",
    "import numpy as np"
   ]
  },
  {
   "cell_type": "code",
   "execution_count": 15,
   "metadata": {},
   "outputs": [],
   "source": [
    "steamspy_url = 'https://steamspy.com/api.php?request=all'\n",
    "payload = {'action': 'parse', 'format': 'json'}\n",
    "r = requests.post(steamspy_url)"
   ]
  },
  {
   "cell_type": "code",
   "execution_count": 17,
   "metadata": {},
   "outputs": [],
   "source": [
    "client = MongoClient('localhost', 27017)\n",
    "db = client.steamspy\n",
    "test = db.test"
   ]
  },
  {
   "cell_type": "code",
   "execution_count": 18,
   "metadata": {},
   "outputs": [],
   "source": [
    "for item in r.json().values():\n",
    "    test.insert(item)"
   ]
  },
  {
   "cell_type": "code",
   "execution_count": 19,
   "metadata": {},
   "outputs": [],
   "source": [
    "data = pd.DataFrame(list(test.find()))"
   ]
  },
  {
   "cell_type": "code",
   "execution_count": 48,
   "metadata": {},
   "outputs": [],
   "source": [
    "for idx in range(data.shape[0]):\n",
    "    owners = data.iloc[idx]['owners'].split('..')\n",
    "    for i in range(len(owners)):\n",
    "        owners[i] = owners[i].replace(',','')\n",
    "        owners[i] = owners[i].replace(' ','')\n",
    "        owners[i] = int(owners[i])\n",
    "    data.at[idx, 'llOwners'] = owners[0]\n",
    "    data.at[idx, 'ulOwners'] = owners[1]"
   ]
  },
  {
   "cell_type": "code",
   "execution_count": 54,
   "metadata": {
    "scrolled": true
   },
   "outputs": [],
   "source": [
    "data = data.drop(columns = ['score_rank', 'owners', '_id'])"
   ]
  },
  {
   "cell_type": "code",
   "execution_count": 27,
   "metadata": {},
   "outputs": [],
   "source": [
    "#Params: genre(string) represents the genre you want to get data of\n",
    "#        collection(database collection) represents database to store the genre data in\n",
    "#This function gets the data of a certain genre from the steamspy website and puts it in the given collection\n",
    "def storeGenre(genre, collection):\n",
    "    steamspy_url = 'https://steamspy.com/api.php?request=genre&genre={}'.format(genre)\n",
    "    r = requests.post(steamspy_url)\n",
    "    for item in r.json().values():\n",
    "        collection.insert(item)"
   ]
  },
  {
   "cell_type": "code",
   "execution_count": 28,
   "metadata": {},
   "outputs": [],
   "source": [
    "action = db.action"
   ]
  },
  {
   "cell_type": "code",
   "execution_count": 29,
   "metadata": {},
   "outputs": [],
   "source": [
    "storeGenre('Action', action)"
   ]
  },
  {
   "cell_type": "code",
   "execution_count": 30,
   "metadata": {},
   "outputs": [],
   "source": [
    "earlyaccess = db.earlyaccess\n",
    "storeGenre('Early+Access', earlyaccess)"
   ]
  },
  {
   "cell_type": "code",
   "execution_count": 126,
   "metadata": {},
   "outputs": [],
   "source": [
    "dataAction = pd.DataFrame(list(action.find()))"
   ]
  },
  {
   "cell_type": "code",
   "execution_count": 129,
   "metadata": {},
   "outputs": [],
   "source": [
    "data['Genres'] = np.empty((len(df), 0)).tolist()"
   ]
  },
  {
   "cell_type": "code",
   "execution_count": 123,
   "metadata": {},
   "outputs": [],
   "source": [
    "#Params: df(dataframe) represents the data to append to\n",
    "#        genreData(dataframe) represents the genre dataframe that you are adding\n",
    "#        genre(string) the genre you are appending\n",
    "#This function appends to the Genre column of df if the game is in the certain genre\n",
    "def appendGenre(df, genreData, genre):\n",
    "    genreData = genreData.drop(columns = ['score_rank', 'owners', '_id'])\n",
    "    df = pd.merge(df, genreData, on=['appid','average_2weeks','average_forever','developer',\n",
    "                                   'discount', 'initialprice','median_2weeks','median_forever',\n",
    "                                   'name', 'negative', 'positive', 'price', 'publisher',\n",
    "                                   'userscore'], how='left', indicator='{}'.format(genre))\n",
    "    for idx in range(df.shape[0]):\n",
    "        if df.iloc[idx]['{}'.format(genre)] == 'both':\n",
    "            df.at[idx, 'Genres'].append('{}'.format(genre))\n",
    "    df = df.drop(columns = ['{}'.format(genre)])"
   ]
  },
  {
   "cell_type": "code",
   "execution_count": 130,
   "metadata": {},
   "outputs": [],
   "source": [
    "appendGenre(data, dataAction, 'Action')"
   ]
  }
 ],
 "metadata": {
  "kernelspec": {
   "display_name": "Python 3",
   "language": "python",
   "name": "python3"
  },
  "language_info": {
   "codemirror_mode": {
    "name": "ipython",
    "version": 3
   },
   "file_extension": ".py",
   "mimetype": "text/x-python",
   "name": "python",
   "nbconvert_exporter": "python",
   "pygments_lexer": "ipython3",
   "version": "3.7.1"
  }
 },
 "nbformat": 4,
 "nbformat_minor": 2
}
