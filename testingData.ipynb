{
 "cells": [
  {
   "cell_type": "code",
   "execution_count": 8,
   "metadata": {},
   "outputs": [],
   "source": [
    "import warnings\n",
    "warnings.filterwarnings('ignore')\n",
    "from pymongo import MongoClient\n",
    "import pprint\n",
    "\n",
    "import copy\n",
    "import pandas as pd\n",
    "\n",
    "import requests\n",
    "\n",
    "from bs4 import BeautifulSoup\n",
    "import json\n",
    "import re\n",
    "import numpy as np"
   ]
  },
  {
   "cell_type": "code",
   "execution_count": 9,
   "metadata": {},
   "outputs": [],
   "source": [
    "steamspy_url = 'https://steamspy.com/api.php?request=all'\n",
    "r = requests.get(steamspy_url)"
   ]
  },
  {
   "cell_type": "code",
   "execution_count": 3,
   "metadata": {},
   "outputs": [
    {
     "name": "stdout",
     "output_type": "stream",
     "text": [
      "{}\n"
     ]
    }
   ],
   "source": [
    "print(r.json())"
   ]
  },
  {
   "cell_type": "code",
   "execution_count": 10,
   "metadata": {},
   "outputs": [],
   "source": [
    "client = MongoClient('localhost', 27017)\n",
    "db = client.steamspy\n",
    "test = db.test"
   ]
  },
  {
   "cell_type": "code",
   "execution_count": 20,
   "metadata": {},
   "outputs": [
    {
     "name": "stdout",
     "output_type": "stream",
     "text": [
      "MongoClient(host=['localhost:27017'], document_class=dict, tz_aware=False, connect=True)\n",
      "Database(MongoClient(host=['localhost:27017'], document_class=dict, tz_aware=False, connect=True), 'steamspy')\n"
     ]
    }
   ],
   "source": [
    "print(client)\n",
    "print(db)"
   ]
  },
  {
   "cell_type": "code",
   "execution_count": 11,
   "metadata": {},
   "outputs": [],
   "source": [
    "for item in r.json().values():\n",
    "    test.insert(item)"
   ]
  },
  {
   "cell_type": "code",
   "execution_count": 12,
   "metadata": {},
   "outputs": [],
   "source": [
    "data = pd.DataFrame(list(test.find()))"
   ]
  },
  {
   "cell_type": "code",
   "execution_count": 27,
   "metadata": {},
   "outputs": [
    {
     "name": "stdout",
     "output_type": "stream",
     "text": [
      "{}\n"
     ]
    }
   ],
   "source": [
    "print(r.json())"
   ]
  },
  {
   "cell_type": "code",
   "execution_count": 13,
   "metadata": {
    "scrolled": true
   },
   "outputs": [],
   "source": [
    "#replacing owners column with lower limit owners and upper limit owners column\n",
    "for idx in range(data.shape[0]):\n",
    "    owners = data.iloc[idx]['owners'].split('..')\n",
    "    for i in range(len(owners)):\n",
    "        owners[i] = owners[i].replace(',','')\n",
    "        owners[i] = owners[i].replace(' ','')\n",
    "        owners[i] = int(owners[i])\n",
    "    data.at[idx, 'llOwners'] = owners[0]\n",
    "    data.at[idx, 'ulOwners'] = owners[1]"
   ]
  },
  {
   "cell_type": "code",
   "execution_count": 14,
   "metadata": {},
   "outputs": [],
   "source": [
    "#Params: genre(string) represents the genre you want to get data of\n",
    "#        collection(database collection) represents database to store the genre data in\n",
    "#This function gets the data of a certain genre from the steamspy website and puts it in the given collection\n",
    "def storeGenre(genre, collection):\n",
    "    steamspy_url = 'https://steamspy.com/api.php?request=genre&genre={}'.format(genre)\n",
    "    r = requests.post(steamspy_url)\n",
    "    for item in r.json().values():\n",
    "        collection.insert(item)"
   ]
  },
  {
   "cell_type": "code",
   "execution_count": 15,
   "metadata": {},
   "outputs": [],
   "source": [
    "#Params: tag(string) represents the tag you want to get data of\n",
    "#        collection(database collection) represents database to store the gtag data in\n",
    "#This function gets the data of a certain tag from the steamspy website and puts it in the given collection\n",
    "def storeTag(collection, tag):\n",
    "    steamspy_url = 'https://steamspy.com/api.php?request=tag&tag={}'.format(tag)\n",
    "    r = requests.post(steamspy_url)\n",
    "    for item in r.json().values():\n",
    "        collection.insert(item)"
   ]
  },
  {
   "cell_type": "code",
   "execution_count": 16,
   "metadata": {},
   "outputs": [],
   "source": [
    "action = db.action"
   ]
  },
  {
   "cell_type": "code",
   "execution_count": 17,
   "metadata": {},
   "outputs": [],
   "source": [
    "storeGenre('Action', action)"
   ]
  },
  {
   "cell_type": "code",
   "execution_count": 18,
   "metadata": {},
   "outputs": [],
   "source": [
    "earlyaccess = db.earlyaccess\n",
    "storeGenre('Early+Access', earlyaccess)"
   ]
  },
  {
   "cell_type": "code",
   "execution_count": 19,
   "metadata": {},
   "outputs": [],
   "source": [
    "#creating databases for all the genres\n",
    "strategy = db.strategy\n",
    "rpg = db.rpg\n",
    "indieG = db.indieG\n",
    "adventure = db.adventure\n",
    "sports = db.sports\n",
    "simulation = db.simulation\n",
    "exEarlyAccess = db.exEarlyAccess\n",
    "mmo = db.mmo\n",
    "free = db.free"
   ]
  },
  {
   "cell_type": "code",
   "execution_count": 20,
   "metadata": {},
   "outputs": [],
   "source": [
    "#storing all genre data in databases\n",
    "storeGenre('Strategy', strategy)\n",
    "storeGenre('RPG', rpg)\n",
    "storeGenre('Indie', indieG)\n",
    "storeGenre('Adventure', adventure)\n",
    "storeGenre('Sports', sports)\n",
    "storeGenre('Simulation', simulation)\n",
    "storeGenre('Ex+Early+Access',exEarlyAccess)\n",
    "storeGenre('Free', free)"
   ]
  },
  {
   "cell_type": "code",
   "execution_count": 21,
   "metadata": {},
   "outputs": [],
   "source": [
    "storeGenre('Massively', mmo)"
   ]
  },
  {
   "cell_type": "code",
   "execution_count": 22,
   "metadata": {},
   "outputs": [],
   "source": [
    "data['Genres'] = np.empty((len(data), 0)).tolist()\n",
    "data['Tags'] = np.empty((len(data), 0)).tolist()"
   ]
  },
  {
   "cell_type": "code",
   "execution_count": 23,
   "metadata": {},
   "outputs": [],
   "source": [
    "#Params: df(dataframe) represents the data to append to\n",
    "#        genreDB(database) represents the genre database that you are adding\n",
    "#        genre(string) the genre you are appending\n",
    "#This function appends to the Genre column of df if the game is in the certain genre\n",
    "def appendGenre(df, genreDB, genre):\n",
    "    genreData = pd.DataFrame(list(genreDB.find()))\n",
    "    genreData = genreData.drop(columns = ['score_rank', 'owners', '_id'])\n",
    "    df['{}'.format(genre)] = data.appid.isin(genreData.appid).astype(int)\n",
    "    for idx in range(df.shape[0]):\n",
    "        if df.iloc[idx]['{}'.format(genre)] == 1:\n",
    "            df.at[idx, 'Genres'].append('{}'.format(genre))\n",
    "    df.drop(columns = '{}'.format(genre), axis=1, inplace = True)\n",
    "    \n",
    "#     df = pd.merge(df, genreData, on=['appid','average_2weeks','average_forever','developer',\n",
    "#                                    'discount', 'initialprice','median_2weeks','median_forever',\n",
    "#                                    'name', 'negative', 'positive', 'price', 'publisher',\n",
    "#                                    'userscore'], how='left', indicator='{}'.format(genre))"
   ]
  },
  {
   "cell_type": "code",
   "execution_count": 24,
   "metadata": {},
   "outputs": [],
   "source": [
    "#Params: df(dataframe) represents the data to append to\n",
    "#        tagDB(database) represents the tag database that you are adding\n",
    "#        tag(string) the tag you are appending\n",
    "#This function appends to the Tags column of df if the game includes a certain tag\n",
    "def appendTag(df, tagDB, tag):\n",
    "    tagData = pd.DataFrame(list(tagDB.find()))\n",
    "    tagData = tagData.drop(columns = ['score_rank', 'owners', '_id'])\n",
    "    df['{}'.format(tag)] = data.appid.isin(tagData.appid).astype(int)\n",
    "    for idx in range(df.shape[0]):\n",
    "        if df.iloc[idx]['{}'.format(tag)] == 1:\n",
    "            df.at[idx, 'Tags'].append('{}'.format(tag))\n",
    "    df.drop(columns = '{}'.format(tag), axis=1, inplace = True)"
   ]
  },
  {
   "cell_type": "code",
   "execution_count": 214,
   "metadata": {},
   "outputs": [
    {
     "data": {
      "text/html": [
       "<div>\n",
       "<style scoped>\n",
       "    .dataframe tbody tr th:only-of-type {\n",
       "        vertical-align: middle;\n",
       "    }\n",
       "\n",
       "    .dataframe tbody tr th {\n",
       "        vertical-align: top;\n",
       "    }\n",
       "\n",
       "    .dataframe thead th {\n",
       "        text-align: right;\n",
       "    }\n",
       "</style>\n",
       "<table border=\"1\" class=\"dataframe\">\n",
       "  <thead>\n",
       "    <tr style=\"text-align: right;\">\n",
       "      <th></th>\n",
       "    </tr>\n",
       "  </thead>\n",
       "  <tbody>\n",
       "  </tbody>\n",
       "</table>\n",
       "</div>"
      ],
      "text/plain": [
       "Empty DataFrame\n",
       "Columns: []\n",
       "Index: []"
      ]
     },
     "execution_count": 214,
     "metadata": {},
     "output_type": "execute_result"
    }
   ],
   "source": [
    "dataMMO = pd.DataFrame(list(mmo.find()))\n",
    "dataMMO.head()"
   ]
  },
  {
   "cell_type": "code",
   "execution_count": 25,
   "metadata": {
    "scrolled": true
   },
   "outputs": [],
   "source": [
    "#appending the genres\n",
    "appendGenre(data, action, 'Action')\n",
    "appendGenre(data, earlyaccess, 'Early Access')\n",
    "appendGenre(data, strategy, 'Strategy')\n",
    "appendGenre(data, rpg, 'RPG')\n",
    "appendGenre(data, indieG, 'Indie')\n",
    "appendGenre(data, adventure, 'Adventure')\n",
    "appendGenre(data, sports, 'Sports')\n",
    "appendGenre(data, simulation, 'Simulation')\n",
    "appendGenre(data, exEarlyAccess, 'Ex Early Access')"
   ]
  },
  {
   "cell_type": "code",
   "execution_count": 26,
   "metadata": {},
   "outputs": [],
   "source": [
    "appendGenre(data, mmo, 'MMO')\n",
    "appendGenre(data, free, 'Free')"
   ]
  },
  {
   "cell_type": "code",
   "execution_count": 27,
   "metadata": {},
   "outputs": [],
   "source": [
    "#screating databases for the tags\n",
    "singleplayerT = db.singleplayerT\n",
    "casualT = db.casualT\n",
    "multiplayerT = db.multiplayerT\n",
    "soundtrackT = db.soundtrackT #Great Soundtrack\n",
    "atmosphericT = db.atmosphericT\n",
    "twodT = db.twodT #2D\n",
    "puzzleT = db.puzzleT\n",
    "openWorldT = db.openWorldT\n",
    "storyRichT = db.storyRichT\n",
    "coopT = db.coopT #co-op\n",
    "difficultT = db.difficultT\n",
    "shooterT = db.shooterT\n",
    "scifiT = db.scifiT #sci-fi\n",
    "firstPersonT = db.firstPersonT #First-Person\n",
    "horrorT = db.horrorT\n",
    "vrT = db.vrT\n",
    "animeT = db.animeT\n",
    "pixelGraphicsT = db.pixelGraphicsT\n",
    "funnyT = db.funnyT\n",
    "fantasyT = db.fantasyT\n",
    "platformerT = db.platformerT\n",
    "femaleProtagonistT = db.femaleProtagonistT\n",
    "fpsT = db.fpsT\n",
    "survivalT = db.survivalT\n",
    "goreT = db.goreT\n",
    "violentT = db.violentT\n",
    "sandboxT = db.sanboxT\n",
    "comedyT = db.comedyT\n",
    "arcadeT = db.arcadeT\n",
    "classicT = db.classicT\n",
    "nudityT = db.nudityT\n",
    "onlineCoopT = db.onlineCoopT #Online Co-Op\n",
    "tacticalT = db.tacticalT\n",
    "zombiesT = db.zombiesT\n",
    "teamBasedT = db.teamBasedT #Team-Based\n",
    "pveT = db.pveT #PvE\n",
    "pvpT = db.pvpT #PvP\n",
    "warT = db.warT\n",
    "controllerT = db.controllerT"
   ]
  },
  {
   "cell_type": "code",
   "execution_count": 28,
   "metadata": {},
   "outputs": [],
   "source": [
    "storeTag(singleplayerT, 'Singleplayer')\n",
    "storeTag(casualT, 'Casual')\n",
    "storeTag(multiplayerT, 'Multiplayer')\n",
    "storeTag(soundtrackT, 'Great+Soundtrack')\n",
    "storeTag(atmosphericT, 'Atmospheric')\n",
    "storeTag(twodT, '2D')\n",
    "storeTag(puzzleT, 'Puzzle')\n",
    "storeTag(openWorldT, 'Open+World')\n",
    "storeTag(storyRichT, 'Story+Rich')\n",
    "storeTag(coopT, 'Co-op')\n",
    "storeTag(difficultT, 'Difficult')\n",
    "storeTag(shooterT, 'Shooter')\n",
    "storeTag(scifiT, 'Sci-fi')\n",
    "storeTag(firstPersonT, 'First-Person')\n",
    "storeTag(horrorT, 'Horror')\n",
    "storeTag(vrT, 'VR')\n",
    "storeTag(animeT, 'Anime')\n",
    "storeTag(pixelGraphicsT, 'Pixel+Graphics')\n",
    "storeTag(funnyT, 'Funny')\n",
    "storeTag(fantasyT, 'Fantasy')\n",
    "storeTag(platformerT, 'Platformer')\n",
    "storeTag(femaleProtagonistT, 'Female+Protagonist')\n",
    "storeTag(fpsT, 'FPS')\n",
    "storeTag(survivalT, 'Survival')\n",
    "storeTag(goreT, 'Gore')\n",
    "storeTag(violentT, 'Violent')\n",
    "storeTag(sandboxT, 'Sandbox')\n",
    "storeTag(comedyT, 'Comedy')\n",
    "storeTag(arcadeT, 'Arcade')\n",
    "storeTag(classicT, 'Classic')\n",
    "storeTag(nudityT, 'Nudity')\n",
    "storeTag(onlineCoopT, 'Online+Co-op')\n",
    "storeTag(tacticalT, 'Tactical')\n",
    "storeTag(zombiesT, 'Zombies')\n",
    "storeTag(teamBasedT, 'Team-Based')\n",
    "storeTag(pveT, 'PvE')\n",
    "storeTag(pvpT, 'PvP')\n",
    "storeTag(warT, 'War')\n",
    "storeTag(controllerT, 'Controller')"
   ]
  },
  {
   "cell_type": "code",
   "execution_count": 29,
   "metadata": {},
   "outputs": [],
   "source": [
    "appendTag(data, singleplayerT, 'Singleplayer')\n",
    "appendTag(data, casualT, 'Casual')\n",
    "appendTag(data, multiplayerT, 'Multiplayer')\n",
    "appendTag(data, soundtrackT, 'Great+Soundtrack')\n",
    "appendTag(data, atmosphericT, 'Atmospheric')\n",
    "appendTag(data, twodT, '2D')\n",
    "appendTag(data, puzzleT, 'Puzzle')\n",
    "appendTag(data, openWorldT, 'Open+World')\n",
    "appendTag(data, storyRichT, 'Story+Rich')\n",
    "appendTag(data, coopT, 'Co-op')\n",
    "appendTag(data, difficultT, 'Difficult')\n",
    "appendTag(data, shooterT, 'Shooter')\n",
    "appendTag(data, scifiT, 'Sci-fi')\n",
    "appendTag(data, firstPersonT, 'First-Person')\n",
    "appendTag(data, horrorT, 'Horror')\n",
    "appendTag(data, vrT, 'VR')\n",
    "appendTag(data, animeT, 'Anime')\n",
    "appendTag(data, pixelGraphicsT, 'Pixel+Graphics')\n",
    "appendTag(data, funnyT, 'Funny')\n",
    "appendTag(data, fantasyT, 'Fantasy')\n",
    "appendTag(data, platformerT, 'Platformer')\n",
    "appendTag(data, femaleProtagonistT, 'Female+Protagonist')\n",
    "appendTag(data, fpsT, 'FPS')\n",
    "appendTag(data, survivalT, 'Survival')\n",
    "appendTag(data, goreT, 'Gore')\n",
    "appendTag(data, violentT, 'Violent')\n",
    "appendTag(data, sandboxT, 'Sandbox')\n",
    "appendTag(data, comedyT, 'Comedy')\n",
    "appendTag(data, arcadeT, 'Arcade')\n",
    "appendTag(data, classicT, 'Classic')\n",
    "appendTag(data, nudityT, 'Nudity')\n",
    "appendTag(data, onlineCoopT, 'Online+Co-op')\n",
    "appendTag(data, tacticalT, 'Tactical')\n",
    "appendTag(data, zombiesT, 'Zombies')\n",
    "appendTag(data, teamBasedT, 'Team-Based')\n",
    "appendTag(data, pveT, 'PvE')\n",
    "appendTag(data, pvpT, 'PvP')\n",
    "appendTag(data, warT, 'War')\n",
    "appendTag(data, controllerT, 'Controller')"
   ]
  },
  {
   "cell_type": "code",
   "execution_count": 30,
   "metadata": {},
   "outputs": [
    {
     "data": {
      "text/html": [
       "<div>\n",
       "<style scoped>\n",
       "    .dataframe tbody tr th:only-of-type {\n",
       "        vertical-align: middle;\n",
       "    }\n",
       "\n",
       "    .dataframe tbody tr th {\n",
       "        vertical-align: top;\n",
       "    }\n",
       "\n",
       "    .dataframe thead th {\n",
       "        text-align: right;\n",
       "    }\n",
       "</style>\n",
       "<table border=\"1\" class=\"dataframe\">\n",
       "  <thead>\n",
       "    <tr style=\"text-align: right;\">\n",
       "      <th></th>\n",
       "      <th>_id</th>\n",
       "      <th>appid</th>\n",
       "      <th>average_2weeks</th>\n",
       "      <th>average_forever</th>\n",
       "      <th>developer</th>\n",
       "      <th>discount</th>\n",
       "      <th>initialprice</th>\n",
       "      <th>median_2weeks</th>\n",
       "      <th>median_forever</th>\n",
       "      <th>name</th>\n",
       "      <th>...</th>\n",
       "      <th>owners</th>\n",
       "      <th>positive</th>\n",
       "      <th>price</th>\n",
       "      <th>publisher</th>\n",
       "      <th>score_rank</th>\n",
       "      <th>userscore</th>\n",
       "      <th>llOwners</th>\n",
       "      <th>ulOwners</th>\n",
       "      <th>Genres</th>\n",
       "      <th>Tags</th>\n",
       "    </tr>\n",
       "  </thead>\n",
       "  <tbody>\n",
       "    <tr>\n",
       "      <th>0</th>\n",
       "      <td>5e1177bee5a9958135658ea2</td>\n",
       "      <td>570</td>\n",
       "      <td>1644</td>\n",
       "      <td>29989</td>\n",
       "      <td>Valve</td>\n",
       "      <td>0</td>\n",
       "      <td>0</td>\n",
       "      <td>765</td>\n",
       "      <td>1284</td>\n",
       "      <td>Dota 2</td>\n",
       "      <td>...</td>\n",
       "      <td>100,000,000 .. 200,000,000</td>\n",
       "      <td>1018172</td>\n",
       "      <td>0</td>\n",
       "      <td>Valve</td>\n",
       "      <td></td>\n",
       "      <td>0</td>\n",
       "      <td>100000000.0</td>\n",
       "      <td>200000000.0</td>\n",
       "      <td>[Action, Strategy, Free]</td>\n",
       "      <td>[Multiplayer, Co-op, Difficult, Fantasy, Onlin...</td>\n",
       "    </tr>\n",
       "    <tr>\n",
       "      <th>1</th>\n",
       "      <td>5e1177bee5a9958135658ea3</td>\n",
       "      <td>578080</td>\n",
       "      <td>731</td>\n",
       "      <td>22291</td>\n",
       "      <td>PUBG Corporation</td>\n",
       "      <td>0</td>\n",
       "      <td>2999</td>\n",
       "      <td>319</td>\n",
       "      <td>10240</td>\n",
       "      <td>PLAYERUNKNOWN'S BATTLEGROUNDS</td>\n",
       "      <td>...</td>\n",
       "      <td>50,000,000 .. 100,000,000</td>\n",
       "      <td>678327</td>\n",
       "      <td>2999</td>\n",
       "      <td>PUBG Corporation</td>\n",
       "      <td></td>\n",
       "      <td>0</td>\n",
       "      <td>50000000.0</td>\n",
       "      <td>100000000.0</td>\n",
       "      <td>[Action, Adventure, Ex Early Access, MMO]</td>\n",
       "      <td>[Casual, Multiplayer, Open+World, Co-op, Diffi...</td>\n",
       "    </tr>\n",
       "    <tr>\n",
       "      <th>2</th>\n",
       "      <td>5e1177bee5a9958135658ea4</td>\n",
       "      <td>440</td>\n",
       "      <td>1377</td>\n",
       "      <td>8895</td>\n",
       "      <td>Valve</td>\n",
       "      <td>0</td>\n",
       "      <td>0</td>\n",
       "      <td>213</td>\n",
       "      <td>452</td>\n",
       "      <td>Team Fortress 2</td>\n",
       "      <td>...</td>\n",
       "      <td>50,000,000 .. 100,000,000</td>\n",
       "      <td>588020</td>\n",
       "      <td>0</td>\n",
       "      <td>Valve</td>\n",
       "      <td></td>\n",
       "      <td>0</td>\n",
       "      <td>50000000.0</td>\n",
       "      <td>100000000.0</td>\n",
       "      <td>[Action, Free]</td>\n",
       "      <td>[Multiplayer, Co-op, Shooter, First-Person, Fu...</td>\n",
       "    </tr>\n",
       "    <tr>\n",
       "      <th>3</th>\n",
       "      <td>5e1177bee5a9958135658ea5</td>\n",
       "      <td>730</td>\n",
       "      <td>969</td>\n",
       "      <td>25886</td>\n",
       "      <td>Valve, Hidden Path Entertainment</td>\n",
       "      <td>0</td>\n",
       "      <td>0</td>\n",
       "      <td>363</td>\n",
       "      <td>7129</td>\n",
       "      <td>Counter-Strike: Global Offensive</td>\n",
       "      <td>...</td>\n",
       "      <td>20,000,000 .. 50,000,000</td>\n",
       "      <td>3295593</td>\n",
       "      <td>0</td>\n",
       "      <td>Valve</td>\n",
       "      <td></td>\n",
       "      <td>0</td>\n",
       "      <td>20000000.0</td>\n",
       "      <td>50000000.0</td>\n",
       "      <td>[Action, Free]</td>\n",
       "      <td>[Multiplayer, Co-op, Difficult, Shooter, First...</td>\n",
       "    </tr>\n",
       "    <tr>\n",
       "      <th>4</th>\n",
       "      <td>5e1177bee5a9958135658ea6</td>\n",
       "      <td>304930</td>\n",
       "      <td>1091</td>\n",
       "      <td>2739</td>\n",
       "      <td>Smartly Dressed Games</td>\n",
       "      <td>0</td>\n",
       "      <td>0</td>\n",
       "      <td>39</td>\n",
       "      <td>298</td>\n",
       "      <td>Unturned</td>\n",
       "      <td>...</td>\n",
       "      <td>20,000,000 .. 50,000,000</td>\n",
       "      <td>321907</td>\n",
       "      <td>0</td>\n",
       "      <td>Smartly Dressed Games</td>\n",
       "      <td></td>\n",
       "      <td>0</td>\n",
       "      <td>20000000.0</td>\n",
       "      <td>50000000.0</td>\n",
       "      <td>[Action, Indie, Adventure, Ex Early Access, Free]</td>\n",
       "      <td>[Singleplayer, Casual, Multiplayer, Atmospheri...</td>\n",
       "    </tr>\n",
       "  </tbody>\n",
       "</table>\n",
       "<p>5 rows × 21 columns</p>\n",
       "</div>"
      ],
      "text/plain": [
       "                        _id   appid  average_2weeks  average_forever  \\\n",
       "0  5e1177bee5a9958135658ea2     570            1644            29989   \n",
       "1  5e1177bee5a9958135658ea3  578080             731            22291   \n",
       "2  5e1177bee5a9958135658ea4     440            1377             8895   \n",
       "3  5e1177bee5a9958135658ea5     730             969            25886   \n",
       "4  5e1177bee5a9958135658ea6  304930            1091             2739   \n",
       "\n",
       "                          developer discount initialprice  median_2weeks  \\\n",
       "0                             Valve        0            0            765   \n",
       "1                  PUBG Corporation        0         2999            319   \n",
       "2                             Valve        0            0            213   \n",
       "3  Valve, Hidden Path Entertainment        0            0            363   \n",
       "4             Smartly Dressed Games        0            0             39   \n",
       "\n",
       "   median_forever                              name  \\\n",
       "0            1284                            Dota 2   \n",
       "1           10240     PLAYERUNKNOWN'S BATTLEGROUNDS   \n",
       "2             452                   Team Fortress 2   \n",
       "3            7129  Counter-Strike: Global Offensive   \n",
       "4             298                          Unturned   \n",
       "\n",
       "                         ...                          \\\n",
       "0                        ...                           \n",
       "1                        ...                           \n",
       "2                        ...                           \n",
       "3                        ...                           \n",
       "4                        ...                           \n",
       "\n",
       "                       owners positive  price              publisher  \\\n",
       "0  100,000,000 .. 200,000,000  1018172      0                  Valve   \n",
       "1   50,000,000 .. 100,000,000   678327   2999       PUBG Corporation   \n",
       "2   50,000,000 .. 100,000,000   588020      0                  Valve   \n",
       "3    20,000,000 .. 50,000,000  3295593      0                  Valve   \n",
       "4    20,000,000 .. 50,000,000   321907      0  Smartly Dressed Games   \n",
       "\n",
       "  score_rank userscore     llOwners     ulOwners  \\\n",
       "0                    0  100000000.0  200000000.0   \n",
       "1                    0   50000000.0  100000000.0   \n",
       "2                    0   50000000.0  100000000.0   \n",
       "3                    0   20000000.0   50000000.0   \n",
       "4                    0   20000000.0   50000000.0   \n",
       "\n",
       "                                              Genres  \\\n",
       "0                           [Action, Strategy, Free]   \n",
       "1          [Action, Adventure, Ex Early Access, MMO]   \n",
       "2                                     [Action, Free]   \n",
       "3                                     [Action, Free]   \n",
       "4  [Action, Indie, Adventure, Ex Early Access, Free]   \n",
       "\n",
       "                                                Tags  \n",
       "0  [Multiplayer, Co-op, Difficult, Fantasy, Onlin...  \n",
       "1  [Casual, Multiplayer, Open+World, Co-op, Diffi...  \n",
       "2  [Multiplayer, Co-op, Shooter, First-Person, Fu...  \n",
       "3  [Multiplayer, Co-op, Difficult, Shooter, First...  \n",
       "4  [Singleplayer, Casual, Multiplayer, Atmospheri...  \n",
       "\n",
       "[5 rows x 21 columns]"
      ]
     },
     "execution_count": 30,
     "metadata": {},
     "output_type": "execute_result"
    }
   ],
   "source": [
    "data.head()"
   ]
  }
 ],
 "metadata": {
  "kernelspec": {
   "display_name": "Python 3",
   "language": "python",
   "name": "python3"
  },
  "language_info": {
   "codemirror_mode": {
    "name": "ipython",
    "version": 3
   },
   "file_extension": ".py",
   "mimetype": "text/x-python",
   "name": "python",
   "nbconvert_exporter": "python",
   "pygments_lexer": "ipython3",
   "version": "3.7.1"
  }
 },
 "nbformat": 4,
 "nbformat_minor": 2
}
